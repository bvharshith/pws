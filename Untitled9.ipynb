{
  "nbformat": 4,
  "nbformat_minor": 0,
  "metadata": {
    "colab": {
      "provenance": [],
      "toc_visible": true,
      "mount_file_id": "1MeuXaNzuaAPSpxqC21v_TIrJGEYVQA0o",
      "authorship_tag": "ABX9TyMJ22yQc+iga+sMSlJXI7pi",
      "include_colab_link": true
    },
    "kernelspec": {
      "name": "python3",
      "display_name": "Python 3"
    },
    "language_info": {
      "name": "python"
    }
  },
  "cells": [
    {
      "cell_type": "markdown",
      "metadata": {
        "id": "view-in-github",
        "colab_type": "text"
      },
      "source": [
        "<a href=\"https://colab.research.google.com/github/bvharshith/pws/blob/main/Untitled9.ipynb\" target=\"_parent\"><img src=\"https://colab.research.google.com/assets/colab-badge.svg\" alt=\"Open In Colab\"/></a>"
      ]
    },
    {
      "cell_type": "code",
      "execution_count": 1,
      "metadata": {
        "colab": {
          "base_uri": "https://localhost:8080/"
        },
        "id": "-Meh6zlO-T5k",
        "outputId": "69cebbe5-f1c5-4c25-abb6-027f805195f3"
      },
      "outputs": [
        {
          "output_type": "stream",
          "name": "stdout",
          "text": [
            "Requirement already satisfied: tensorflow in /usr/local/lib/python3.10/dist-packages (2.15.0)\n",
            "Requirement already satisfied: absl-py>=1.0.0 in /usr/local/lib/python3.10/dist-packages (from tensorflow) (1.4.0)\n",
            "Requirement already satisfied: astunparse>=1.6.0 in /usr/local/lib/python3.10/dist-packages (from tensorflow) (1.6.3)\n",
            "Requirement already satisfied: flatbuffers>=23.5.26 in /usr/local/lib/python3.10/dist-packages (from tensorflow) (24.3.7)\n",
            "Requirement already satisfied: gast!=0.5.0,!=0.5.1,!=0.5.2,>=0.2.1 in /usr/local/lib/python3.10/dist-packages (from tensorflow) (0.5.4)\n",
            "Requirement already satisfied: google-pasta>=0.1.1 in /usr/local/lib/python3.10/dist-packages (from tensorflow) (0.2.0)\n",
            "Requirement already satisfied: h5py>=2.9.0 in /usr/local/lib/python3.10/dist-packages (from tensorflow) (3.9.0)\n",
            "Requirement already satisfied: libclang>=13.0.0 in /usr/local/lib/python3.10/dist-packages (from tensorflow) (16.0.6)\n",
            "Requirement already satisfied: ml-dtypes~=0.2.0 in /usr/local/lib/python3.10/dist-packages (from tensorflow) (0.2.0)\n",
            "Requirement already satisfied: numpy<2.0.0,>=1.23.5 in /usr/local/lib/python3.10/dist-packages (from tensorflow) (1.25.2)\n",
            "Requirement already satisfied: opt-einsum>=2.3.2 in /usr/local/lib/python3.10/dist-packages (from tensorflow) (3.3.0)\n",
            "Requirement already satisfied: packaging in /usr/local/lib/python3.10/dist-packages (from tensorflow) (24.0)\n",
            "Requirement already satisfied: protobuf!=4.21.0,!=4.21.1,!=4.21.2,!=4.21.3,!=4.21.4,!=4.21.5,<5.0.0dev,>=3.20.3 in /usr/local/lib/python3.10/dist-packages (from tensorflow) (3.20.3)\n",
            "Requirement already satisfied: setuptools in /usr/local/lib/python3.10/dist-packages (from tensorflow) (67.7.2)\n",
            "Requirement already satisfied: six>=1.12.0 in /usr/local/lib/python3.10/dist-packages (from tensorflow) (1.16.0)\n",
            "Requirement already satisfied: termcolor>=1.1.0 in /usr/local/lib/python3.10/dist-packages (from tensorflow) (2.4.0)\n",
            "Requirement already satisfied: typing-extensions>=3.6.6 in /usr/local/lib/python3.10/dist-packages (from tensorflow) (4.10.0)\n",
            "Requirement already satisfied: wrapt<1.15,>=1.11.0 in /usr/local/lib/python3.10/dist-packages (from tensorflow) (1.14.1)\n",
            "Requirement already satisfied: tensorflow-io-gcs-filesystem>=0.23.1 in /usr/local/lib/python3.10/dist-packages (from tensorflow) (0.36.0)\n",
            "Requirement already satisfied: grpcio<2.0,>=1.24.3 in /usr/local/lib/python3.10/dist-packages (from tensorflow) (1.62.1)\n",
            "Requirement already satisfied: tensorboard<2.16,>=2.15 in /usr/local/lib/python3.10/dist-packages (from tensorflow) (2.15.2)\n",
            "Requirement already satisfied: tensorflow-estimator<2.16,>=2.15.0 in /usr/local/lib/python3.10/dist-packages (from tensorflow) (2.15.0)\n",
            "Requirement already satisfied: keras<2.16,>=2.15.0 in /usr/local/lib/python3.10/dist-packages (from tensorflow) (2.15.0)\n",
            "Requirement already satisfied: wheel<1.0,>=0.23.0 in /usr/local/lib/python3.10/dist-packages (from astunparse>=1.6.0->tensorflow) (0.43.0)\n",
            "Requirement already satisfied: google-auth<3,>=1.6.3 in /usr/local/lib/python3.10/dist-packages (from tensorboard<2.16,>=2.15->tensorflow) (2.27.0)\n",
            "Requirement already satisfied: google-auth-oauthlib<2,>=0.5 in /usr/local/lib/python3.10/dist-packages (from tensorboard<2.16,>=2.15->tensorflow) (1.2.0)\n",
            "Requirement already satisfied: markdown>=2.6.8 in /usr/local/lib/python3.10/dist-packages (from tensorboard<2.16,>=2.15->tensorflow) (3.5.2)\n",
            "Requirement already satisfied: requests<3,>=2.21.0 in /usr/local/lib/python3.10/dist-packages (from tensorboard<2.16,>=2.15->tensorflow) (2.31.0)\n",
            "Requirement already satisfied: tensorboard-data-server<0.8.0,>=0.7.0 in /usr/local/lib/python3.10/dist-packages (from tensorboard<2.16,>=2.15->tensorflow) (0.7.2)\n",
            "Requirement already satisfied: werkzeug>=1.0.1 in /usr/local/lib/python3.10/dist-packages (from tensorboard<2.16,>=2.15->tensorflow) (3.0.1)\n",
            "Requirement already satisfied: cachetools<6.0,>=2.0.0 in /usr/local/lib/python3.10/dist-packages (from google-auth<3,>=1.6.3->tensorboard<2.16,>=2.15->tensorflow) (5.3.3)\n",
            "Requirement already satisfied: pyasn1-modules>=0.2.1 in /usr/local/lib/python3.10/dist-packages (from google-auth<3,>=1.6.3->tensorboard<2.16,>=2.15->tensorflow) (0.3.0)\n",
            "Requirement already satisfied: rsa<5,>=3.1.4 in /usr/local/lib/python3.10/dist-packages (from google-auth<3,>=1.6.3->tensorboard<2.16,>=2.15->tensorflow) (4.9)\n",
            "Requirement already satisfied: requests-oauthlib>=0.7.0 in /usr/local/lib/python3.10/dist-packages (from google-auth-oauthlib<2,>=0.5->tensorboard<2.16,>=2.15->tensorflow) (1.4.0)\n",
            "Requirement already satisfied: charset-normalizer<4,>=2 in /usr/local/lib/python3.10/dist-packages (from requests<3,>=2.21.0->tensorboard<2.16,>=2.15->tensorflow) (3.3.2)\n",
            "Requirement already satisfied: idna<4,>=2.5 in /usr/local/lib/python3.10/dist-packages (from requests<3,>=2.21.0->tensorboard<2.16,>=2.15->tensorflow) (3.6)\n",
            "Requirement already satisfied: urllib3<3,>=1.21.1 in /usr/local/lib/python3.10/dist-packages (from requests<3,>=2.21.0->tensorboard<2.16,>=2.15->tensorflow) (2.0.7)\n",
            "Requirement already satisfied: certifi>=2017.4.17 in /usr/local/lib/python3.10/dist-packages (from requests<3,>=2.21.0->tensorboard<2.16,>=2.15->tensorflow) (2024.2.2)\n",
            "Requirement already satisfied: MarkupSafe>=2.1.1 in /usr/local/lib/python3.10/dist-packages (from werkzeug>=1.0.1->tensorboard<2.16,>=2.15->tensorflow) (2.1.5)\n",
            "Requirement already satisfied: pyasn1<0.6.0,>=0.4.6 in /usr/local/lib/python3.10/dist-packages (from pyasn1-modules>=0.2.1->google-auth<3,>=1.6.3->tensorboard<2.16,>=2.15->tensorflow) (0.5.1)\n",
            "Requirement already satisfied: oauthlib>=3.0.0 in /usr/local/lib/python3.10/dist-packages (from requests-oauthlib>=0.7.0->google-auth-oauthlib<2,>=0.5->tensorboard<2.16,>=2.15->tensorflow) (3.2.2)\n"
          ]
        }
      ],
      "source": [
        "pip install tensorflow\n"
      ]
    },
    {
      "cell_type": "code",
      "source": [
        "import cv2\n",
        "import os\n",
        "\n",
        "# Mount Google Drive to access files\n",
        "from google.colab import drive\n",
        "drive.mount('/content/drive')\n",
        "\n",
        "# Path to the directory containing your image files\n",
        "image_dir = \"/content/drive/MyDrive/dataset/hw_drawings/hw_drawings/Dynamic Spiral Test\"\n",
        "\n",
        "# Function to load and preprocess images\n",
        "def load_and_preprocess_images(image_dir):\n",
        "    image_files = os.listdir(image_dir)\n",
        "    images = []\n",
        "    for file in image_files:\n",
        "        if file.endswith(\".jpg\") or file.endswith(\".png\"):  # Assuming images are in JPG or PNG format\n",
        "            image_path = os.path.join(image_dir, file)\n",
        "            # Load the image in grayscale\n",
        "            image = cv2.imread(image_path, cv2.IMREAD_GRAYSCALE)\n",
        "            # Preprocessing (optional): Resize, normalize, etc.\n",
        "            # For example, you can resize the image to a fixed size:\n",
        "            # image = cv2.resize(image, (desired_width, desired_height))\n",
        "            images.append(image)\n",
        "    return images\n",
        "\n",
        "# Load and preprocess images\n",
        "images = load_and_preprocess_images(image_dir)\n",
        "\n",
        "# Display the first image (for verification)\n",
        "if images:\n",
        "    from google.colab.patches import cv2_imshow\n",
        "    cv2_imshow(images[0])\n"
      ],
      "metadata": {
        "colab": {
          "base_uri": "https://localhost:8080/",
          "height": 454
        },
        "id": "ZZ29GaUa-iow",
        "outputId": "0c6f1f60-d2f8-488a-8c63-dd3d5155f20f"
      },
      "execution_count": 4,
      "outputs": [
        {
          "output_type": "stream",
          "name": "stdout",
          "text": [
            "Drive already mounted at /content/drive; to attempt to forcibly remount, call drive.mount(\"/content/drive\", force_remount=True).\n"
          ]
        },
        {
          "output_type": "display_data",
          "data": {
            "text/plain": [
              "<PIL.Image.Image image mode=L size=561x420>"
            ],
            "image/png": "[encoded data removed]"
          },
          "metadata": {}
        }
      ]
    },
    {
      "cell_type": "code",
      "source": [
        "import numpy as np\n",
        "from keras.applications import VGG16\n",
        "from keras.applications.vgg16 import preprocess_input\n",
        "from keras.preprocessing import image\n",
        "from keras.models import Model\n",
        "import os\n",
        "\n",
        "# Mount Google Drive to access files\n",
        "from google.colab import drive\n",
        "drive.mount('/content/drive')\n",
        "\n",
        "# Path to the directory containing your image files\n",
        "image_dir = \"/content/drive/MyDrive/dataset/hw_drawings/hw_drawings/Dynamic Spiral Test\"\n",
        "\n",
        "# Load pre-trained VGG16 model without classifier layers\n",
        "base_model = VGG16(weights='imagenet', include_top=False, input_shape=(224, 224, 3))\n",
        "\n",
        "# Remove the fully connected layers\n",
        "model = Model(inputs=base_model.input, outputs=base_model.get_layer('block5_conv2').output)\n",
        "\n",
        "# Function to extract features from images using VGG16\n",
        "def extract_features(image_dir):\n",
        "    features = []\n",
        "    for filename in os.listdir(image_dir):\n",
        "        if filename.endswith(\".jpg\") or filename.endswith(\".png\"):  # Assuming images are in JPG or PNG format\n",
        "            img_path = os.path.join(image_dir, filename)\n",
        "            img = image.load_img(img_path, target_size=(224, 224))\n",
        "            x = image.img_to_array(img)\n",
        "            x = np.expand_dims(x, axis=0)\n",
        "            x = preprocess_input(x)\n",
        "            feature = model.predict(x)\n",
        "            features.append(feature.flatten())\n",
        "    return np.array(features)\n",
        "\n",
        "# Extract features from images\n",
        "features = extract_features(image_dir)\n",
        "\n",
        "# Display the shape of the extracted features array\n",
        "print(\"Shape of extracted features:\", features.shape)\n"
      ],
      "metadata": {
        "colab": {
          "base_uri": "https://localhost:8080/"
        },
        "id": "2X8tfdjeBdVV",
        "outputId": "9cf77694-6bc1-49e5-c27d-4f8dae77ca68"
      },
      "execution_count": 5,
      "outputs": [
        {
          "output_type": "stream",
          "name": "stdout",
          "text": [
            "Drive already mounted at /content/drive; to attempt to forcibly remount, call drive.mount(\"/content/drive\", force_remount=True).\n",
            "Downloading data from https://storage.googleapis.com/tensorflow/keras-applications/vgg16/vgg16_weights_tf_dim_ordering_tf_kernels_notop.h5\n",
            "58889256/58889256 [==============================] - 0s 0us/step\n",
            "1/1 [==============================] - 1s 715ms/step\n",
            "1/1 [==============================] - 0s 448ms/step\n",
            "1/1 [==============================] - 0s 446ms/step\n",
            "1/1 [==============================] - 0s 443ms/step\n",
            "1/1 [==============================] - 0s 459ms/step\n",
            "1/1 [==============================] - 0s 443ms/step\n",
            "1/1 [==============================] - 0s 445ms/step\n",
            "1/1 [==============================] - 0s 442ms/step\n",
            "1/1 [==============================] - 0s 463ms/step\n",
            "1/1 [==============================] - 0s 441ms/step\n",
            "1/1 [==============================] - 0s 449ms/step\n",
            "1/1 [==============================] - 0s 440ms/step\n",
            "1/1 [==============================] - 0s 450ms/step\n",
            "1/1 [==============================] - 0s 466ms/step\n",
            "1/1 [==============================] - 1s 510ms/step\n",
            "1/1 [==============================] - 1s 781ms/step\n",
            "1/1 [==============================] - 1s 798ms/step\n",
            "1/1 [==============================] - 1s 779ms/step\n",
            "1/1 [==============================] - 1s 764ms/step\n",
            "1/1 [==============================] - 0s 442ms/step\n",
            "1/1 [==============================] - 1s 504ms/step\n",
            "1/1 [==============================] - 0s 448ms/step\n",
            "1/1 [==============================] - 0s 463ms/step\n",
            "1/1 [==============================] - 1s 526ms/step\n",
            "1/1 [==============================] - 0s 468ms/step\n",
            "Shape of extracted features: (25, 100352)\n"
          ]
        }
      ]
    },
    {
      "cell_type": "code",
      "source": [
        "import tensorflow as tf\n",
        "from tensorflow.keras import layers, models\n",
        "\n",
        "# Define CNN model\n",
        "model = models.Sequential([\n",
        "    layers.Conv2D(32, (3, 3), activation='relu', input_shape=(image_height, image_width, 3)),\n",
        "    layers.MaxPooling2D((2, 2)),\n",
        "    layers.Conv2D(64, (3, 3), activation='relu'),\n",
        "    layers.MaxPooling2D((2, 2)),\n",
        "    layers.Conv2D(128, (3, 3), activation='relu'),\n",
        "    layers.MaxPooling2D((2, 2)),\n",
        "    layers.Flatten(),\n",
        "    layers.Dense(128, activation='relu'),\n",
        "    layers.Dense(1, activation='sigmoid')\n",
        "])\n",
        "\n",
        "# Compile model\n",
        "model.compile(optimizer='adam',\n",
        "              loss='binary_crossentropy',\n",
        "              metrics=['accuracy'])\n",
        "\n",
        "# Train model\n",
        "history = model.fit(train_images, train_labels, epochs=10, validation_data=(test_images, test_labels))\n",
        "\n",
        "# Evaluate model\n",
        "test_loss, test_accuracy = model.evaluate(test_images, test_labels)\n",
        "print(\"Test Accuracy:\", test_accuracy)\n"
      ],
      "metadata": {
        "colab": {
          "base_uri": "https://localhost:8080/",
          "height": 211
        },
        "id": "HnbaujXeB5ei",
        "outputId": "cc937eca-39f0-463d-a946-58db1a801538"
      },
      "execution_count": 6,
      "outputs": [
        {
          "output_type": "error",
          "ename": "NameError",
          "evalue": "name 'image_height' is not defined",
          "traceback": [
            "\u001b[0;31m---------------------------------------------------------------------------\u001b[0m",
            "\u001b[0;31mNameError\u001b[0m                                 Traceback (most recent call last)",
            "\u001b[0;32m<ipython-input-6-39e940c2eb8b>\u001b[0m in \u001b[0;36m<cell line: 5>\u001b[0;34m()\u001b[0m\n\u001b[1;32m      4\u001b[0m \u001b[0;31m# Define CNN model\u001b[0m\u001b[0;34m\u001b[0m\u001b[0;34m\u001b[0m\u001b[0m\n\u001b[1;32m      5\u001b[0m model = models.Sequential([\n\u001b[0;32m----> 6\u001b[0;31m     \u001b[0mlayers\u001b[0m\u001b[0;34m.\u001b[0m\u001b[0mConv2D\u001b[0m\u001b[0;34m(\u001b[0m\u001b[0;36m32\u001b[0m\u001b[0;34m,\u001b[0m \u001b[0;34m(\u001b[0m\u001b[0;36m3\u001b[0m\u001b[0;34m,\u001b[0m \u001b[0;36m3\u001b[0m\u001b[0;34m)\u001b[0m\u001b[0;34m,\u001b[0m \u001b[0mactivation\u001b[0m\u001b[0;34m=\u001b[0m\u001b[0;34m'relu'\u001b[0m\u001b[0;34m,\u001b[0m \u001b[0minput_shape\u001b[0m\u001b[0;34m=\u001b[0m\u001b[0;34m(\u001b[0m\u001b[0mimage_height\u001b[0m\u001b[0;34m,\u001b[0m \u001b[0mimage_width\u001b[0m\u001b[0;34m,\u001b[0m \u001b[0;36m3\u001b[0m\u001b[0;34m)\u001b[0m\u001b[0;34m)\u001b[0m\u001b[0;34m,\u001b[0m\u001b[0;34m\u001b[0m\u001b[0;34m\u001b[0m\u001b[0m\n\u001b[0m\u001b[1;32m      7\u001b[0m     \u001b[0mlayers\u001b[0m\u001b[0;34m.\u001b[0m\u001b[0mMaxPooling2D\u001b[0m\u001b[0;34m(\u001b[0m\u001b[0;34m(\u001b[0m\u001b[0;36m2\u001b[0m\u001b[0;34m,\u001b[0m \u001b[0;36m2\u001b[0m\u001b[0;34m)\u001b[0m\u001b[0;34m)\u001b[0m\u001b[0;34m,\u001b[0m\u001b[0;34m\u001b[0m\u001b[0;34m\u001b[0m\u001b[0m\n\u001b[1;32m      8\u001b[0m     \u001b[0mlayers\u001b[0m\u001b[0;34m.\u001b[0m\u001b[0mConv2D\u001b[0m\u001b[0;34m(\u001b[0m\u001b[0;36m64\u001b[0m\u001b[0;34m,\u001b[0m \u001b[0;34m(\u001b[0m\u001b[0;36m3\u001b[0m\u001b[0;34m,\u001b[0m \u001b[0;36m3\u001b[0m\u001b[0;34m)\u001b[0m\u001b[0;34m,\u001b[0m \u001b[0mactivation\u001b[0m\u001b[0;34m=\u001b[0m\u001b[0;34m'relu'\u001b[0m\u001b[0;34m)\u001b[0m\u001b[0;34m,\u001b[0m\u001b[0;34m\u001b[0m\u001b[0;34m\u001b[0m\u001b[0m\n",
            "\u001b[0;31mNameError\u001b[0m: name 'image_height' is not defined"
          ]
        }
      ]
    },
    {
      "cell_type": "code",
      "source": [
        "import cv2\n",
        "import os\n",
        "\n",
        "# Path to the directory containing your images\n",
        "image_dir = \"/content/drive/MyDrive/dataset/hw_drawings/hw_drawings/Dynamic Spiral Test\"\n",
        "\n",
        "# Get the dimensions of the first image in the directory\n",
        "first_image_path = os.path.join(image_dir, os.listdir(image_dir)[0])\n",
        "first_image = cv2.imread(first_image_path)\n",
        "image_height, image_width, _ = first_image.shape\n",
        "\n",
        "# Print the dimensions\n",
        "print(\"Image Height:\", image_height)\n",
        "print(\"Image Width:\", image_width)\n"
      ],
      "metadata": {
        "colab": {
          "base_uri": "https://localhost:8080/"
        },
        "id": "E4DcxX7ODkCE",
        "outputId": "84c29023-7116-44cb-eca7-f7d1813eaa14"
      },
      "execution_count": 8,
      "outputs": [
        {
          "output_type": "stream",
          "name": "stdout",
          "text": [
            "Image Height: 420\n",
            "Image Width: 561\n"
          ]
        }
      ]
    },
    {
      "cell_type": "code",
      "source": [
        "import tensorflow as tf\n",
        "from tensorflow.keras import layers, models\n",
        "\n",
        "# Define image dimensions\n",
        "image_height = 420\n",
        "image_width = 561\n",
        "\n",
        "# Define CNN model\n",
        "model = models.Sequential([\n",
        "    layers.Conv2D(32, (3, 3), activation='relu', input_shape=(image_height, image_width, 3)),\n",
        "    layers.MaxPooling2D((2, 2)),\n",
        "    layers.Conv2D(64, (3, 3), activation='relu'),\n",
        "    layers.MaxPooling2D((2, 2)),\n",
        "    layers.Conv2D(128, (3, 3), activation='relu'),\n",
        "    layers.MaxPooling2D((2, 2)),\n",
        "    layers.Flatten(),\n",
        "    layers.Dense(128, activation='relu'),\n",
        "    layers.Dense(1, activation='sigmoid')\n",
        "])\n",
        "\n",
        "# Compile model\n",
        "model.compile(optimizer='adam',\n",
        "              loss='binary_crossentropy',\n",
        "              metrics=['accuracy'])\n",
        "\n",
        "# Display model summary\n",
        "model.summary()\n"
      ],
      "metadata": {
        "colab": {
          "base_uri": "https://localhost:8080/"
        },
        "id": "_zVmhtltD44I",
        "outputId": "8b362520-bcf0-4c79-8464-08a9887ab5bd"
      },
      "execution_count": 10,
      "outputs": [
        {
          "output_type": "stream",
          "name": "stdout",
          "text": [
            "Model: \"sequential_1\"\n",
            "_________________________________________________________________\n",
            " Layer (type)                Output Shape              Param #   \n",
            "=================================================================\n",
            " conv2d_3 (Conv2D)           (None, 418, 559, 32)      896       \n",
            "                                                                 \n",
            " max_pooling2d_3 (MaxPoolin  (None, 209, 279, 32)      0         \n",
            " g2D)                                                            \n",
            "                                                                 \n",
            " conv2d_4 (Conv2D)           (None, 207, 277, 64)      18496     \n",
            "                                                                 \n",
            " max_pooling2d_4 (MaxPoolin  (None, 103, 138, 64)      0         \n",
            " g2D)                                                            \n",
            "                                                                 \n",
            " conv2d_5 (Conv2D)           (None, 101, 136, 128)     73856     \n",
            "                                                                 \n",
            " max_pooling2d_5 (MaxPoolin  (None, 50, 68, 128)       0         \n",
            " g2D)                                                            \n",
            "                                                                 \n",
            " flatten_1 (Flatten)         (None, 435200)            0         \n",
            "                                                                 \n",
            " dense_2 (Dense)             (None, 128)               55705728  \n",
            "                                                                 \n",
            " dense_3 (Dense)             (None, 1)                 129       \n",
            "                                                                 \n",
            "=================================================================\n",
            "Total params: 55799105 (212.86 MB)\n",
            "Trainable params: 55799105 (212.86 MB)\n",
            "Non-trainable params: 0 (0.00 Byte)\n",
            "_________________________________________________________________\n"
          ]
        }
      ]
    },
    {
      "cell_type": "code",
      "source": [
        "from tensorflow.keras.preprocessing.image import ImageDataGenerator\n",
        "\n",
        "# Create an ImageDataGenerator instance for data augmentation and preprocessing\n",
        "datagen = ImageDataGenerator(\n",
        "    rescale=1./255,  # Normalize pixel values to [0, 1]\n",
        "    rotation_range=10,  # Randomly rotate images by up to 10 degrees\n",
        "    width_shift_range=0.1,  # Randomly shift images horizontally by up to 10%\n",
        "    height_shift_range=0.1,  # Randomly shift images vertically by up to 10%\n",
        "    shear_range=0.1,  # Apply shear transformation\n",
        "    zoom_range=0.1,  # Apply zoom transformation\n",
        "    horizontal_flip=True,  # Randomly flip images horizontally\n",
        "    fill_mode='nearest'  # Fill missing pixels with the nearest value\n",
        ")\n",
        "\n",
        "# Load and preprocess images from directory\n",
        "train_generator = datagen.flow_from_directory(\n",
        "    '/content/drive/MyDrive/dataset/hw_drawings/hw_drawings/Dynamic Spiral Test',\n",
        "    target_size=(image_height, image_width),  # Resize images to match input size\n",
        "    batch_size=32,  # Set batch size for training\n",
        "    class_mode='binary'  # Use binary classification for labels\n",
        ")\n"
      ],
      "metadata": {
        "colab": {
          "base_uri": "https://localhost:8080/"
        },
        "id": "9GUgtgWNEb6r",
        "outputId": "9de54996-ac4d-4db8-bab2-bb48053dadc6"
      },
      "execution_count": 11,
      "outputs": [
        {
          "output_type": "stream",
          "name": "stdout",
          "text": [
            "Found 0 images belonging to 0 classes.\n"
          ]
        }
      ]
    },
    {
      "cell_type": "code",
      "source": [
        "import os\n",
        "\n",
        "# Path to the directory containing your images\n",
        "image_dir = \"/content/drive/MyDrive/dataset/hw_drawings/hw_drawings/Dynamic Spiral Test\"\n",
        "\n",
        "# List the contents of the directory\n",
        "print(os.listdir(image_dir))\n"
      ],
      "metadata": {
        "colab": {
          "base_uri": "https://localhost:8080/"
        },
        "id": "2H6wGCUxEucJ",
        "outputId": "0dea96d8-202f-472a-b1fa-1bdb7bd4b921"
      },
      "execution_count": 12,
      "outputs": [
        {
          "output_type": "stream",
          "name": "stdout",
          "text": [
            "['d21.png', 'd22.png', 'd5.png', 'd6.png', 'd3.png', 'd4.png', 'd23.png', 'd9.png', 'd8.png', 'd7.png', 'd25.png', 'd24.png', 'd17.png', 'd15.png', 'd16.png', 'd18.png', 'd20.png', 'd2.png', 'd12.png', 'd11.png', 'd19.png', 'd14.png', 'd13.png', 'd10.png', 'd1.png']\n"
          ]
        }
      ]
    },
    {
      "cell_type": "code",
      "source": [
        "import cv2\n",
        "from matplotlib import pyplot as plt\n",
        "import os\n",
        "\n",
        "# Path to the directory containing your images\n",
        "image_dir = \"/content/drive/MyDrive/dataset/hw_drawings/hw_drawings/Dynamic Spiral Test\"\n",
        "\n",
        "# Select one of the image files to load and display\n",
        "sample_image_filename = 'd21.png'\n",
        "sample_image_path = os.path.join(image_dir, sample_image_filename)\n",
        "\n",
        "# Load the sample image using OpenCV\n",
        "sample_image = cv2.imread(sample_image_path)\n",
        "\n",
        "# Convert the image from BGR to RGB (OpenCV loads images in BGR format)\n",
        "sample_image_rgb = cv2.cvtColor(sample_image, cv2.COLOR_BGR2RGB)\n",
        "\n",
        "# Display the sample image using Matplotlib\n",
        "plt.imshow(sample_image_rgb)\n",
        "plt.axis('off')\n",
        "plt.show()\n"
      ],
      "metadata": {
        "colab": {
          "base_uri": "https://localhost:8080/",
          "height": 406
        },
        "id": "mwwle01ME38J",
        "outputId": "a1680775-82e1-4d1a-e91f-6ea8055a17b9"
      },
      "execution_count": 13,
      "outputs": [
        {
          "output_type": "display_data",
          "data": {
            "text/plain": [
              "<Figure size 640x480 with 1 Axes>"
            ],
            "image/png": "[encoded data removed]"
          },
          "metadata": {}
        }
      ]
    },
    {
      "cell_type": "code",
      "source": [
        "from tensorflow.keras.preprocessing.image import ImageDataGenerator\n",
        "\n",
        "# Create an ImageDataGenerator instance for data preprocessing\n",
        "datagen = ImageDataGenerator(\n",
        "    rescale=1./255,  # Normalize pixel values to [0, 1]\n",
        "    rotation_range=10,  # Randomly rotate images by up to 10 degrees\n",
        "    width_shift_range=0.1,  # Randomly shift images horizontally by up to 10%\n",
        "    height_shift_range=0.1,  # Randomly shift images vertically by up to 10%\n",
        "    shear_range=0.1,  # Apply shear transformation\n",
        "    zoom_range=0.1,  # Apply zoom transformation\n",
        "    horizontal_flip=True,  # Randomly flip images horizontally\n",
        "    fill_mode='nearest'  # Fill missing pixels with the nearest value\n",
        ")\n",
        "\n",
        "# Load and preprocess images from directory\n",
        "image_height = 420  # Update with your image height\n",
        "image_width = 561   # Update with your image width\n",
        "batch_size = 32     # Update with your batch size\n",
        "\n",
        "train_generator = datagen.flow_from_directory(\n",
        "    '/content/drive/MyDrive/dataset/hw_drawings/hw_drawings/Dynamic Spiral Test',\n",
        "    target_size=(image_height, image_width),  # Resize images to match input size\n",
        "    batch_size=batch_size,  # Set batch size for training\n",
        "    class_mode='binary'  # Use binary classification for labels\n",
        ")\n"
      ],
      "metadata": {
        "colab": {
          "base_uri": "https://localhost:8080/"
        },
        "id": "8xQNz505FFBi",
        "outputId": "fe61fe18-425e-49ac-dfd6-b13b187d809d"
      },
      "execution_count": 14,
      "outputs": [
        {
          "output_type": "stream",
          "name": "stdout",
          "text": [
            "Found 0 images belonging to 0 classes.\n"
          ]
        }
      ]
    },
    {
      "cell_type": "code",
      "source": [
        "from tensorflow.keras.preprocessing.image import ImageDataGenerator\n",
        "\n",
        "# Define the directory path to your dataset in Google Drive\n",
        "dataset_dir = 'https://drive.google.com/drive/folders/1Z2bj981s0Y6jH7New7lmHmqbRkWxG768'\n",
        "\n",
        "# Create an ImageDataGenerator instance for data preprocessing\n",
        "datagen = ImageDataGenerator(rescale=1./255)  # Normalize pixel values\n",
        "\n",
        "# Load and preprocess images from directory\n",
        "train_generator = datagen.flow_from_directory(\n",
        "    dataset_dir,\n",
        "    target_size=(420, 561),  # Resize images to match input size\n",
        "    batch_size=32,  # Set batch size for training\n",
        "    class_mode='binary'  # Use binary classification for labels\n",
        ")\n"
      ],
      "metadata": {
        "colab": {
          "base_uri": "https://localhost:8080/",
          "height": 373
        },
        "id": "2YzMNSfOHUqW",
        "outputId": "cf0f17ee-9237-4c6b-b445-49abb3d5e606"
      },
      "execution_count": 16,
      "outputs": [
        {
          "output_type": "error",
          "ename": "FileNotFoundError",
          "evalue": "[Errno 2] No such file or directory: 'https://drive.google.com/drive/folders/1Z2bj981s0Y6jH7New7lmHmqbRkWxG768'",
          "traceback": [
            "\u001b[0;31m---------------------------------------------------------------------------\u001b[0m",
            "\u001b[0;31mFileNotFoundError\u001b[0m                         Traceback (most recent call last)",
            "\u001b[0;32m<ipython-input-16-a45037049b47>\u001b[0m in \u001b[0;36m<cell line: 10>\u001b[0;34m()\u001b[0m\n\u001b[1;32m      8\u001b[0m \u001b[0;34m\u001b[0m\u001b[0m\n\u001b[1;32m      9\u001b[0m \u001b[0;31m# Load and preprocess images from directory\u001b[0m\u001b[0;34m\u001b[0m\u001b[0;34m\u001b[0m\u001b[0m\n\u001b[0;32m---> 10\u001b[0;31m train_generator = datagen.flow_from_directory(\n\u001b[0m\u001b[1;32m     11\u001b[0m     \u001b[0mdataset_dir\u001b[0m\u001b[0;34m,\u001b[0m\u001b[0;34m\u001b[0m\u001b[0;34m\u001b[0m\u001b[0m\n\u001b[1;32m     12\u001b[0m     \u001b[0mtarget_size\u001b[0m\u001b[0;34m=\u001b[0m\u001b[0;34m(\u001b[0m\u001b[0;36m420\u001b[0m\u001b[0;34m,\u001b[0m \u001b[0;36m561\u001b[0m\u001b[0;34m)\u001b[0m\u001b[0;34m,\u001b[0m  \u001b[0;31m# Resize images to match input size\u001b[0m\u001b[0;34m\u001b[0m\u001b[0;34m\u001b[0m\u001b[0m\n",
            "\u001b[0;32m/usr/local/lib/python3.10/dist-packages/keras/src/preprocessing/image.py\u001b[0m in \u001b[0;36mflow_from_directory\u001b[0;34m(self, directory, target_size, color_mode, classes, class_mode, batch_size, shuffle, seed, save_to_dir, save_prefix, save_format, follow_links, subset, interpolation, keep_aspect_ratio)\u001b[0m\n\u001b[1;32m   1647\u001b[0m             \u001b[0;32mand\u001b[0m\u001b[0;31m \u001b[0m\u001b[0;31m`\u001b[0m\u001b[0my\u001b[0m\u001b[0;31m`\u001b[0m \u001b[0;32mis\u001b[0m \u001b[0ma\u001b[0m \u001b[0mnumpy\u001b[0m \u001b[0marray\u001b[0m \u001b[0mof\u001b[0m \u001b[0mcorresponding\u001b[0m \u001b[0mlabels\u001b[0m\u001b[0;34m.\u001b[0m\u001b[0;34m\u001b[0m\u001b[0;34m\u001b[0m\u001b[0m\n\u001b[1;32m   1648\u001b[0m         \"\"\"\n\u001b[0;32m-> 1649\u001b[0;31m         return DirectoryIterator(\n\u001b[0m\u001b[1;32m   1650\u001b[0m             \u001b[0mdirectory\u001b[0m\u001b[0;34m,\u001b[0m\u001b[0;34m\u001b[0m\u001b[0;34m\u001b[0m\u001b[0m\n\u001b[1;32m   1651\u001b[0m             \u001b[0mself\u001b[0m\u001b[0;34m,\u001b[0m\u001b[0;34m\u001b[0m\u001b[0;34m\u001b[0m\u001b[0m\n",
            "\u001b[0;32m/usr/local/lib/python3.10/dist-packages/keras/src/preprocessing/image.py\u001b[0m in \u001b[0;36m__init__\u001b[0;34m(self, directory, image_data_generator, target_size, color_mode, classes, class_mode, batch_size, shuffle, seed, data_format, save_to_dir, save_prefix, save_format, follow_links, subset, interpolation, keep_aspect_ratio, dtype)\u001b[0m\n\u001b[1;32m    561\u001b[0m         \u001b[0;32mif\u001b[0m \u001b[0;32mnot\u001b[0m \u001b[0mclasses\u001b[0m\u001b[0;34m:\u001b[0m\u001b[0;34m\u001b[0m\u001b[0;34m\u001b[0m\u001b[0m\n\u001b[1;32m    562\u001b[0m             \u001b[0mclasses\u001b[0m \u001b[0;34m=\u001b[0m \u001b[0;34m[\u001b[0m\u001b[0;34m]\u001b[0m\u001b[0;34m\u001b[0m\u001b[0;34m\u001b[0m\u001b[0m\n\u001b[0;32m--> 563\u001b[0;31m             \u001b[0;32mfor\u001b[0m \u001b[0msubdir\u001b[0m \u001b[0;32min\u001b[0m \u001b[0msorted\u001b[0m\u001b[0;34m(\u001b[0m\u001b[0mos\u001b[0m\u001b[0;34m.\u001b[0m\u001b[0mlistdir\u001b[0m\u001b[0;34m(\u001b[0m\u001b[0mdirectory\u001b[0m\u001b[0;34m)\u001b[0m\u001b[0;34m)\u001b[0m\u001b[0;34m:\u001b[0m\u001b[0;34m\u001b[0m\u001b[0;34m\u001b[0m\u001b[0m\n\u001b[0m\u001b[1;32m    564\u001b[0m                 \u001b[0;32mif\u001b[0m \u001b[0mos\u001b[0m\u001b[0;34m.\u001b[0m\u001b[0mpath\u001b[0m\u001b[0;34m.\u001b[0m\u001b[0misdir\u001b[0m\u001b[0;34m(\u001b[0m\u001b[0mos\u001b[0m\u001b[0;34m.\u001b[0m\u001b[0mpath\u001b[0m\u001b[0;34m.\u001b[0m\u001b[0mjoin\u001b[0m\u001b[0;34m(\u001b[0m\u001b[0mdirectory\u001b[0m\u001b[0;34m,\u001b[0m \u001b[0msubdir\u001b[0m\u001b[0;34m)\u001b[0m\u001b[0;34m)\u001b[0m\u001b[0;34m:\u001b[0m\u001b[0;34m\u001b[0m\u001b[0;34m\u001b[0m\u001b[0m\n\u001b[1;32m    565\u001b[0m                     \u001b[0mclasses\u001b[0m\u001b[0;34m.\u001b[0m\u001b[0mappend\u001b[0m\u001b[0;34m(\u001b[0m\u001b[0msubdir\u001b[0m\u001b[0;34m)\u001b[0m\u001b[0;34m\u001b[0m\u001b[0;34m\u001b[0m\u001b[0m\n",
            "\u001b[0;31mFileNotFoundError\u001b[0m: [Errno 2] No such file or directory: 'https://drive.google.com/drive/folders/1Z2bj981s0Y6jH7New7lmHmqbRkWxG768'"
          ]
        }
      ]
    },
    {
      "cell_type": "code",
      "source": [
        "from tensorflow.keras.preprocessing.image import ImageDataGenerator\n",
        "\n",
        "# Define the directory path to your dataset in Google Drive\n",
        "dataset_dir = '/content/drive/MyDrive/dataset/hw_drawings/hw_drawings/Dynamic Spiral Test'\n",
        "\n",
        "# Create an ImageDataGenerator instance for data preprocessing\n",
        "datagen = ImageDataGenerator(rescale=1./255)  # Normalize pixel values\n",
        "\n",
        "# Load and preprocess images from directory\n",
        "train_generator = datagen.flow_from_directory(\n",
        "    dataset_dir,\n",
        "    target_size=(420, 561),  # Resize images to match input size\n",
        "    batch_size=32,  # Set batch size for training\n",
        "    class_mode='binary'  # Use binary classification for labels\n",
        ")\n"
      ],
      "metadata": {
        "colab": {
          "base_uri": "https://localhost:8080/"
        },
        "id": "tXxg_UGZHvPe",
        "outputId": "f638ccf7-8c5e-4575-e3cb-35e56cab73c6"
      },
      "execution_count": 17,
      "outputs": [
        {
          "output_type": "stream",
          "name": "stdout",
          "text": [
            "Found 0 images belonging to 0 classes.\n"
          ]
        }
      ]
    },
    {
      "cell_type": "code",
      "source": [
        "from tensorflow.keras.preprocessing.image import ImageDataGenerator\n",
        "from tensorflow.keras.models import Sequential\n",
        "from tensorflow.keras.layers import Conv2D, MaxPooling2D, Flatten, Dense\n",
        "\n",
        "# Define directory path\n",
        "dataset_dir = '/content/drive/MyDrive/dataset/hw_drawings'\n",
        "\n",
        "# Create an ImageDataGenerator instance for data preprocessing\n",
        "datagen = ImageDataGenerator(rescale=1./255)\n",
        "\n",
        "# Load images from directory\n",
        "train_generator = datagen.flow_from_directory(\n",
        "    dataset_dir,\n",
        "    target_size=(64, 64),  # Resize images to 64x64 pixels\n",
        "    batch_size=32,\n",
        "    class_mode='binary'\n",
        ")\n",
        "\n",
        "# Define CNN model\n",
        "model = Sequential([\n",
        "    Conv2D(32, (3, 3), activation='relu', input_shape=(64, 64, 3)),\n",
        "    MaxPooling2D((2, 2)),\n",
        "    Conv2D(64, (3, 3), activation='relu'),\n",
        "    MaxPooling2D((2, 2)),\n",
        "    Flatten(),\n",
        "    Dense(128, activation='relu'),\n",
        "    Dense(1, activation='sigmoid')\n",
        "])\n",
        "\n",
        "# Compile the model\n",
        "model.compile(optimizer='adam', loss='binary_crossentropy', metrics=['accuracy'])\n",
        "\n",
        "# Train the model\n",
        "model.fit(train_generator, epochs=10, batch_size=32)\n"
      ],
      "metadata": {
        "colab": {
          "base_uri": "https://localhost:8080/"
        },
        "id": "exMtvnXqLZta",
        "outputId": "0f1bc556-c916-4c1a-bc7c-b4970c740a5d"
      },
      "execution_count": 18,
      "outputs": [
        {
          "output_type": "stream",
          "name": "stdout",
          "text": [
            "Found 50 images belonging to 1 classes.\n",
            "Epoch 1/10\n",
            "2/2 [==============================] - 5s 308ms/step - loss: 0.3159 - accuracy: 0.6400\n",
            "Epoch 2/10\n",
            "2/2 [==============================] - 1s 300ms/step - loss: 1.7590e-04 - accuracy: 1.0000\n",
            "Epoch 3/10\n",
            "2/2 [==============================] - 0s 84ms/step - loss: 1.2277e-06 - accuracy: 1.0000\n",
            "Epoch 4/10\n",
            "2/2 [==============================] - 1s 106ms/step - loss: 1.1500e-08 - accuracy: 1.0000\n",
            "Epoch 5/10\n",
            "2/2 [==============================] - 1s 127ms/step - loss: 2.1091e-10 - accuracy: 1.0000\n",
            "Epoch 6/10\n",
            "2/2 [==============================] - 1s 276ms/step - loss: 4.1963e-12 - accuracy: 1.0000\n",
            "Epoch 7/10\n",
            "2/2 [==============================] - 1s 296ms/step - loss: 2.1237e-13 - accuracy: 1.0000\n",
            "Epoch 8/10\n",
            "2/2 [==============================] - 1s 275ms/step - loss: 1.5792e-14 - accuracy: 1.0000\n",
            "Epoch 9/10\n",
            "2/2 [==============================] - 1s 291ms/step - loss: 1.8276e-15 - accuracy: 1.0000\n",
            "Epoch 10/10\n",
            "2/2 [==============================] - 1s 122ms/step - loss: 3.5847e-16 - accuracy: 1.0000\n"
          ]
        },
        {
          "output_type": "execute_result",
          "data": {
            "text/plain": [
              "<keras.src.callbacks.History at 0x7dd1e2f018a0>"
            ]
          },
          "metadata": {},
          "execution_count": 18
        }
      ]
    },
    {
      "cell_type": "code",
      "source": [
        "print(train_generator.filenames)\n",
        "print(train_generator.labels)\n"
      ],
      "metadata": {
        "colab": {
          "base_uri": "https://localhost:8080/"
        },
        "id": "Gy8deDvGLqH4",
        "outputId": "4dfa75ad-5afd-478c-d402-a23f130f821c"
      },
      "execution_count": 19,
      "outputs": [
        {
          "output_type": "stream",
          "name": "stdout",
          "text": [
            "['hw_drawings/Dynamic Spiral Test/d1.png', 'hw_drawings/Dynamic Spiral Test/d10.png', 'hw_drawings/Dynamic Spiral Test/d11.png', 'hw_drawings/Dynamic Spiral Test/d12.png', 'hw_drawings/Dynamic Spiral Test/d13.png', 'hw_drawings/Dynamic Spiral Test/d14.png', 'hw_drawings/Dynamic Spiral Test/d15.png', 'hw_drawings/Dynamic Spiral Test/d16.png', 'hw_drawings/Dynamic Spiral Test/d17.png', 'hw_drawings/Dynamic Spiral Test/d18.png', 'hw_drawings/Dynamic Spiral Test/d19.png', 'hw_drawings/Dynamic Spiral Test/d2.png', 'hw_drawings/Dynamic Spiral Test/d20.png', 'hw_drawings/Dynamic Spiral Test/d21.png', 'hw_drawings/Dynamic Spiral Test/d22.png', 'hw_drawings/Dynamic Spiral Test/d23.png', 'hw_drawings/Dynamic Spiral Test/d24.png', 'hw_drawings/Dynamic Spiral Test/d25.png', 'hw_drawings/Dynamic Spiral Test/d3.png', 'hw_drawings/Dynamic Spiral Test/d4.png', 'hw_drawings/Dynamic Spiral Test/d5.png', 'hw_drawings/Dynamic Spiral Test/d6.png', 'hw_drawings/Dynamic Spiral Test/d7.png', 'hw_drawings/Dynamic Spiral Test/d8.png', 'hw_drawings/Dynamic Spiral Test/d9.png', 'hw_drawings/Static Spiral Test/s1.png', 'hw_drawings/Static Spiral Test/s10.png', 'hw_drawings/Static Spiral Test/s11.png', 'hw_drawings/Static Spiral Test/s12.png', 'hw_drawings/Static Spiral Test/s13.png', 'hw_drawings/Static Spiral Test/s14.png', 'hw_drawings/Static Spiral Test/s15.png', 'hw_drawings/Static Spiral Test/s16.png', 'hw_drawings/Static Spiral Test/s17.png', 'hw_drawings/Static Spiral Test/s18.png', 'hw_drawings/Static Spiral Test/s19.png', 'hw_drawings/Static Spiral Test/s2.png', 'hw_drawings/Static Spiral Test/s20.png', 'hw_drawings/Static Spiral Test/s21.png', 'hw_drawings/Static Spiral Test/s22.png', 'hw_drawings/Static Spiral Test/s23.png', 'hw_drawings/Static Spiral Test/s24.png', 'hw_drawings/Static Spiral Test/s25.png', 'hw_drawings/Static Spiral Test/s3.png', 'hw_drawings/Static Spiral Test/s4.png', 'hw_drawings/Static Spiral Test/s5.png', 'hw_drawings/Static Spiral Test/s6.png', 'hw_drawings/Static Spiral Test/s7.png', 'hw_drawings/Static Spiral Test/s8.png', 'hw_drawings/Static Spiral Test/s9.png']\n",
            "[0 0 0 0 0 0 0 0 0 0 0 0 0 0 0 0 0 0 0 0 0 0 0 0 0 0 0 0 0 0 0 0 0 0 0 0 0\n",
            " 0 0 0 0 0 0 0 0 0 0 0 0 0]\n"
          ]
        }
      ]
    },
    {
      "cell_type": "code",
      "source": [
        "import cv2\n",
        "import os\n",
        "\n",
        "# Path to the directory containing your image files\n",
        "image_dir = \"/content/drive/MyDrive/dataset/hw_drawings/hw_drawings\"  # Updated directory path\n",
        "\n",
        "# Function to load and preprocess images\n",
        "def load_and_preprocess_images(image_dir):\n",
        "    image_files = os.listdir(image_dir)\n",
        "    images = []\n",
        "    for file in image_files:\n",
        "        if file.endswith(\".jpg\") or file.endswith(\".png\"):  # Assuming images are in JPG or PNG format\n",
        "            image_path = os.path.join(image_dir, file)\n",
        "            # Load the image in grayscale\n",
        "            image = cv2.imread(image_path, cv2.IMREAD_GRAYSCALE)\n",
        "            # Preprocessing (optional): Resize, normalize, etc.\n",
        "            # For example, you can resize the image to a fixed size:\n",
        "            # image = cv2.resize(image, (desired_width, desired_height))\n",
        "            images.append(image)\n",
        "    return images\n",
        "\n",
        "# Load and preprocess images\n",
        "images = load_and_preprocess_images(image_dir)\n",
        "\n",
        "# Display the first image (for verification)\n",
        "if images:\n",
        "    cv2.imshow(\"First Image\", images[0])\n",
        "    cv2.waitKey(0)\n",
        "    cv2.destroyAllWindows()\n",
        "\n"
      ],
      "metadata": {
        "id": "LoN5Bqf5L0Av"
      },
      "execution_count": 21,
      "outputs": []
    },
    {
      "cell_type": "code",
      "source": [
        "import numpy as np\n",
        "\n",
        "# Function to extract statistical features from an image\n",
        "def extract_features(image):\n",
        "    # Calculate mean and standard deviation of pixel intensities\n",
        "    mean_intensity = np.mean(image)\n",
        "    std_intensity = np.std(image)\n",
        "    return [mean_intensity, std_intensity]\n",
        "\n",
        "# Extract features for all images\n",
        "features = [extract_features(image) for image in images]\n",
        "\n",
        "# Convert features to numpy array\n",
        "features_matrix = np.array(features)\n",
        "\n",
        "# Print the shape of the feature matrix (for verification)\n",
        "print(\"Feature Matrix Shape:\", features_matrix.shape)\n"
      ],
      "metadata": {
        "colab": {
          "base_uri": "https://localhost:8080/"
        },
        "id": "L11w-_YmNMdD",
        "outputId": "e5db100b-05c1-4f30-f5fc-ce0c8c06b59c"
      },
      "execution_count": 22,
      "outputs": [
        {
          "output_type": "stream",
          "name": "stdout",
          "text": [
            "Feature Matrix Shape: (0,)\n"
          ]
        }
      ]
    },
    {
      "cell_type": "code",
      "source": [
        "from sklearn.model_selection import train_test_split\n",
        "from sklearn.svm import SVC\n",
        "from sklearn.metrics import accuracy_score\n",
        "\n",
        "# Replace features_matrix with your actual feature matrix\n",
        "# Replace labels_list with your actual list of labels\n",
        "# features_matrix: Numpy array containing extracted features for each image\n",
        "# labels_list: List containing labels corresponding to each image (0: Healthy, 1: Parkinson's disease)\n",
        "\n",
        "# Split the data into training and testing sets\n",
        "X_train, X_test, y_train, y_test = train_test_split(features_matrix, labels_list, test_size=0.2, random_state=42)\n",
        "\n",
        "# Initialize and train SVM classifier\n",
        "svm_clf = SVC(kernel='linear')\n",
        "svm_clf.fit(X_train, y_train)\n",
        "\n",
        "# Predictions on the testing set\n",
        "y_pred = svm_clf.predict(X_test)\n",
        "\n",
        "# Calculate accuracy\n",
        "accuracy = accuracy_score(y_test, y_pred)\n",
        "print(\"Accuracy:\", accuracy)\n"
      ],
      "metadata": {
        "colab": {
          "base_uri": "https://localhost:8080/",
          "height": 211
        },
        "id": "uSy4ckL2Nbh2",
        "outputId": "e259e60d-04ff-4c97-e4da-cf58061aca0f"
      },
      "execution_count": 23,
      "outputs": [
        {
          "output_type": "error",
          "ename": "NameError",
          "evalue": "name 'labels_list' is not defined",
          "traceback": [
            "\u001b[0;31m---------------------------------------------------------------------------\u001b[0m",
            "\u001b[0;31mNameError\u001b[0m                                 Traceback (most recent call last)",
            "\u001b[0;32m<ipython-input-23-b1ce37f22783>\u001b[0m in \u001b[0;36m<cell line: 11>\u001b[0;34m()\u001b[0m\n\u001b[1;32m      9\u001b[0m \u001b[0;34m\u001b[0m\u001b[0m\n\u001b[1;32m     10\u001b[0m \u001b[0;31m# Split the data into training and testing sets\u001b[0m\u001b[0;34m\u001b[0m\u001b[0;34m\u001b[0m\u001b[0m\n\u001b[0;32m---> 11\u001b[0;31m \u001b[0mX_train\u001b[0m\u001b[0;34m,\u001b[0m \u001b[0mX_test\u001b[0m\u001b[0;34m,\u001b[0m \u001b[0my_train\u001b[0m\u001b[0;34m,\u001b[0m \u001b[0my_test\u001b[0m \u001b[0;34m=\u001b[0m \u001b[0mtrain_test_split\u001b[0m\u001b[0;34m(\u001b[0m\u001b[0mfeatures_matrix\u001b[0m\u001b[0;34m,\u001b[0m \u001b[0mlabels_list\u001b[0m\u001b[0;34m,\u001b[0m \u001b[0mtest_size\u001b[0m\u001b[0;34m=\u001b[0m\u001b[0;36m0.2\u001b[0m\u001b[0;34m,\u001b[0m \u001b[0mrandom_state\u001b[0m\u001b[0;34m=\u001b[0m\u001b[0;36m42\u001b[0m\u001b[0;34m)\u001b[0m\u001b[0;34m\u001b[0m\u001b[0;34m\u001b[0m\u001b[0m\n\u001b[0m\u001b[1;32m     12\u001b[0m \u001b[0;34m\u001b[0m\u001b[0m\n\u001b[1;32m     13\u001b[0m \u001b[0;31m# Initialize and train SVM classifier\u001b[0m\u001b[0;34m\u001b[0m\u001b[0;34m\u001b[0m\u001b[0m\n",
            "\u001b[0;31mNameError\u001b[0m: name 'labels_list' is not defined"
          ]
        }
      ]
    }
  ]
}