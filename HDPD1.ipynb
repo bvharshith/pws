{
  "cells": [
    {
      "cell_type": "markdown",
      "metadata": {
        "id": "view-in-github",
        "colab_type": "text"
      },
      "source": [
        "<a href=\"https://colab.research.google.com/github/bvharshith/pws/blob/main/HDPD1.ipynb\" target=\"_parent\"><img src=\"https://colab.research.google.com/assets/colab-badge.svg\" alt=\"Open In Colab\"/></a>"
      ]
    },
    {
      "cell_type": "code",
      "execution_count": null,
      "metadata": {
        "id": "I9wW7x4oZI-9"
      },
      "outputs": [],
      "source": [
        "import cv2\n",
        "import os\n",
        "\n",
        "# Path to the directory containing images\n",
        "directory_path = \"/content/drive/MyDrive/dataset/hw_drawings/hw_drawings\"\n",
        "\n",
        "# List all files in the directory\n",
        "files = os.listdir(directory_path)\n",
        "\n",
        "# Iterate over each file in the directory\n",
        "for file in files:\n",
        "    # Check if the file is an image (you may want to refine this check based on your file extensions)\n",
        "    if file.endswith(\".jpg\") or file.endswith(\".png\"):\n",
        "        # Load the image\n",
        "        image_path = os.path.join(directory_path, file)\n",
        "        image = cv2.imread(image_path)\n",
        "\n",
        "        # Convert to grayscale\n",
        "        gray_image = cv2.cvtColor(image, cv2.COLOR_BGR2GRAY)\n",
        "\n",
        "        # Save the grayscale image\n",
        "        grayscale_image_path = os.path.join(directory_path, f\"grayscale_{file}\")\n",
        "        cv2.imwrite(grayscale_image_path, gray_image)\n"
      ]
    },
    {
      "cell_type": "code",
      "execution_count": null,
      "metadata": {
        "colab": {
          "base_uri": "https://localhost:8080/",
          "height": 158
        },
        "id": "Dyp47BF8ZrVM",
        "outputId": "b08e8c63-cbb9-4517-9f99-c1b06922efa3"
      },
      "outputs": [
        {
          "ename": "NameError",
          "evalue": "name 'gray_image' is not defined",
          "output_type": "error",
          "traceback": [
            "\u001b[0;31m---------------------------------------------------------------------------\u001b[0m",
            "\u001b[0;31mNameError\u001b[0m                                 Traceback (most recent call last)",
            "\u001b[0;32m<ipython-input-2-3934554c3526>\u001b[0m in \u001b[0;36m<cell line: 2>\u001b[0;34m()\u001b[0m\n\u001b[1;32m      1\u001b[0m \u001b[0;31m# Example resizing images to 256x256\u001b[0m\u001b[0;34m\u001b[0m\u001b[0;34m\u001b[0m\u001b[0m\n\u001b[0;32m----> 2\u001b[0;31m \u001b[0mresized_image\u001b[0m \u001b[0;34m=\u001b[0m \u001b[0mcv2\u001b[0m\u001b[0;34m.\u001b[0m\u001b[0mresize\u001b[0m\u001b[0;34m(\u001b[0m\u001b[0mgray_image\u001b[0m\u001b[0;34m,\u001b[0m \u001b[0;34m(\u001b[0m\u001b[0;36m256\u001b[0m\u001b[0;34m,\u001b[0m \u001b[0;36m256\u001b[0m\u001b[0;34m)\u001b[0m\u001b[0;34m)\u001b[0m\u001b[0;34m\u001b[0m\u001b[0;34m\u001b[0m\u001b[0m\n\u001b[0m",
            "\u001b[0;31mNameError\u001b[0m: name 'gray_image' is not defined"
          ]
        }
      ],
      "source": [
        "# Example resizing images to 256x256\n",
        "resized_image = cv2.resize(gray_image, (256, 256))\n"
      ]
    },
    {
      "cell_type": "code",
      "execution_count": null,
      "metadata": {
        "colab": {
          "base_uri": "https://localhost:8080/",
          "height": 373
        },
        "id": "By2P3Ov5Z-yk",
        "outputId": "133a2bc1-aee6-4858-c68b-2ed6dfbae27e"
      },
      "outputs": [
        {
          "ename": "ValueError",
          "evalue": "With n_samples=0, test_size=0.2 and train_size=None, the resulting train set will be empty. Adjust any of the aforementioned parameters.",
          "output_type": "error",
          "traceback": [
            "\u001b[0;31m---------------------------------------------------------------------------\u001b[0m",
            "\u001b[0;31mValueError\u001b[0m                                Traceback (most recent call last)",
            "\u001b[0;32m<ipython-input-4-30387528388d>\u001b[0m in \u001b[0;36m<cell line: 48>\u001b[0;34m()\u001b[0m\n\u001b[1;32m     46\u001b[0m \u001b[0;34m\u001b[0m\u001b[0m\n\u001b[1;32m     47\u001b[0m \u001b[0;31m# Split dataset into training and test sets\u001b[0m\u001b[0;34m\u001b[0m\u001b[0;34m\u001b[0m\u001b[0m\n\u001b[0;32m---> 48\u001b[0;31m \u001b[0mX_train\u001b[0m\u001b[0;34m,\u001b[0m \u001b[0mX_test\u001b[0m\u001b[0;34m,\u001b[0m \u001b[0my_train\u001b[0m\u001b[0;34m,\u001b[0m \u001b[0my_test\u001b[0m \u001b[0;34m=\u001b[0m \u001b[0mtrain_test_split\u001b[0m\u001b[0;34m(\u001b[0m\u001b[0mimages\u001b[0m\u001b[0;34m,\u001b[0m \u001b[0mlabels\u001b[0m\u001b[0;34m,\u001b[0m \u001b[0mtest_size\u001b[0m\u001b[0;34m=\u001b[0m\u001b[0;36m0.2\u001b[0m\u001b[0;34m,\u001b[0m \u001b[0mrandom_state\u001b[0m\u001b[0;34m=\u001b[0m\u001b[0;36m42\u001b[0m\u001b[0;34m)\u001b[0m\u001b[0;34m\u001b[0m\u001b[0;34m\u001b[0m\u001b[0m\n\u001b[0m",
            "\u001b[0;32m/usr/local/lib/python3.10/dist-packages/sklearn/model_selection/_split.py\u001b[0m in \u001b[0;36mtrain_test_split\u001b[0;34m(test_size, train_size, random_state, shuffle, stratify, *arrays)\u001b[0m\n\u001b[1;32m   2560\u001b[0m \u001b[0;34m\u001b[0m\u001b[0m\n\u001b[1;32m   2561\u001b[0m     \u001b[0mn_samples\u001b[0m \u001b[0;34m=\u001b[0m \u001b[0m_num_samples\u001b[0m\u001b[0;34m(\u001b[0m\u001b[0marrays\u001b[0m\u001b[0;34m[\u001b[0m\u001b[0;36m0\u001b[0m\u001b[0;34m]\u001b[0m\u001b[0;34m)\u001b[0m\u001b[0;34m\u001b[0m\u001b[0;34m\u001b[0m\u001b[0m\n\u001b[0;32m-> 2562\u001b[0;31m     n_train, n_test = _validate_shuffle_split(\n\u001b[0m\u001b[1;32m   2563\u001b[0m         \u001b[0mn_samples\u001b[0m\u001b[0;34m,\u001b[0m \u001b[0mtest_size\u001b[0m\u001b[0;34m,\u001b[0m \u001b[0mtrain_size\u001b[0m\u001b[0;34m,\u001b[0m \u001b[0mdefault_test_size\u001b[0m\u001b[0;34m=\u001b[0m\u001b[0;36m0.25\u001b[0m\u001b[0;34m\u001b[0m\u001b[0;34m\u001b[0m\u001b[0m\n\u001b[1;32m   2564\u001b[0m     )\n",
            "\u001b[0;32m/usr/local/lib/python3.10/dist-packages/sklearn/model_selection/_split.py\u001b[0m in \u001b[0;36m_validate_shuffle_split\u001b[0;34m(n_samples, test_size, train_size, default_test_size)\u001b[0m\n\u001b[1;32m   2234\u001b[0m \u001b[0;34m\u001b[0m\u001b[0m\n\u001b[1;32m   2235\u001b[0m     \u001b[0;32mif\u001b[0m \u001b[0mn_train\u001b[0m \u001b[0;34m==\u001b[0m \u001b[0;36m0\u001b[0m\u001b[0;34m:\u001b[0m\u001b[0;34m\u001b[0m\u001b[0;34m\u001b[0m\u001b[0m\n\u001b[0;32m-> 2236\u001b[0;31m         raise ValueError(\n\u001b[0m\u001b[1;32m   2237\u001b[0m             \u001b[0;34m\"With n_samples={}, test_size={} and train_size={}, the \"\u001b[0m\u001b[0;34m\u001b[0m\u001b[0;34m\u001b[0m\u001b[0m\n\u001b[1;32m   2238\u001b[0m             \u001b[0;34m\"resulting train set will be empty. Adjust any of the \"\u001b[0m\u001b[0;34m\u001b[0m\u001b[0;34m\u001b[0m\u001b[0m\n",
            "\u001b[0;31mValueError\u001b[0m: With n_samples=0, test_size=0.2 and train_size=None, the resulting train set will be empty. Adjust any of the aforementioned parameters."
          ]
        }
      ],
      "source": [
        "import cv2\n",
        "import os\n",
        "import numpy as np  # Import NumPy for array operations\n",
        "from sklearn.model_selection import train_test_split\n",
        "\n",
        "# Path to the directory containing images\n",
        "directory_path = \"/content/drive/MyDrive/dataset/hw_drawings/hw_drawings\"\n",
        "\n",
        "# List all files in the directory\n",
        "files = os.listdir(directory_path)\n",
        "\n",
        "# Lists to store images and labels (if applicable)\n",
        "images = []\n",
        "labels = []\n",
        "\n",
        "# Iterate over each file in the directory\n",
        "for file in files:\n",
        "    # Check if the file is an image (you may want to refine this check based on your file extensions)\n",
        "    if file.endswith(\".jpg\") or file.endswith(\".png\"):\n",
        "        # Load the image\n",
        "        image_path = os.path.join(directory_path, file)\n",
        "        image = cv2.imread(image_path)\n",
        "\n",
        "        # Convert to grayscale\n",
        "        gray_image = cv2.cvtColor(image, cv2.COLOR_BGR2GRAY)\n",
        "\n",
        "        # Perform further processing steps\n",
        "\n",
        "        # Resize image\n",
        "        resized_image = cv2.resize(gray_image, (256, 256))\n",
        "\n",
        "        # Normalize pixel values\n",
        "        normalized_image = gray_image / 255.0\n",
        "\n",
        "        # Perform data augmentation (example: rotate by 90 degrees)\n",
        "        rotated_image = cv2.rotate(gray_image, cv2.ROTATE_90_CLOCKWISE)\n",
        "\n",
        "        # Append processed image to list\n",
        "        images.append(resized_image)  # Change this to the appropriate processed image\n",
        "        # If you have labels, append them as well\n",
        "        # labels.append(label)\n",
        "\n",
        "# Convert lists to numpy arrays\n",
        "images = np.array(images)\n",
        "# labels = np.array(labels)\n",
        "\n",
        "# Split dataset into training and test sets\n",
        "X_train, X_test, y_train, y_test = train_test_split(images, labels, test_size=0.2, random_state=42)\n"
      ]
    },
    {
      "cell_type": "code",
      "execution_count": null,
      "metadata": {
        "colab": {
          "base_uri": "https://localhost:8080/",
          "height": 356
        },
        "id": "Zy2fHMPZaPIa",
        "outputId": "49532c6e-15e2-4840-ac8e-2a087502f688"
      },
      "outputs": [
        {
          "ename": "ValueError",
          "evalue": "test_size=0.0 should be either positive and smaller than the number of samples 0 or a float in the (0, 1) range",
          "output_type": "error",
          "traceback": [
            "\u001b[0;31m---------------------------------------------------------------------------\u001b[0m",
            "\u001b[0;31mValueError\u001b[0m                                Traceback (most recent call last)",
            "\u001b[0;32m<ipython-input-6-9292bdd2e905>\u001b[0m in \u001b[0;36m<cell line: 2>\u001b[0;34m()\u001b[0m\n\u001b[1;32m      1\u001b[0m \u001b[0;31m# Split dataset into training and test sets (using all data for training)\u001b[0m\u001b[0;34m\u001b[0m\u001b[0;34m\u001b[0m\u001b[0m\n\u001b[0;32m----> 2\u001b[0;31m \u001b[0mX_train\u001b[0m\u001b[0;34m,\u001b[0m \u001b[0mX_test\u001b[0m\u001b[0;34m,\u001b[0m \u001b[0my_train\u001b[0m\u001b[0;34m,\u001b[0m \u001b[0my_test\u001b[0m \u001b[0;34m=\u001b[0m \u001b[0mtrain_test_split\u001b[0m\u001b[0;34m(\u001b[0m\u001b[0mimages\u001b[0m\u001b[0;34m,\u001b[0m \u001b[0mlabels\u001b[0m\u001b[0;34m,\u001b[0m \u001b[0mtest_size\u001b[0m\u001b[0;34m=\u001b[0m\u001b[0;36m0.0\u001b[0m\u001b[0;34m,\u001b[0m \u001b[0mrandom_state\u001b[0m\u001b[0;34m=\u001b[0m\u001b[0;36m42\u001b[0m\u001b[0;34m)\u001b[0m\u001b[0;34m\u001b[0m\u001b[0;34m\u001b[0m\u001b[0m\n\u001b[0m",
            "\u001b[0;32m/usr/local/lib/python3.10/dist-packages/sklearn/model_selection/_split.py\u001b[0m in \u001b[0;36mtrain_test_split\u001b[0;34m(test_size, train_size, random_state, shuffle, stratify, *arrays)\u001b[0m\n\u001b[1;32m   2560\u001b[0m \u001b[0;34m\u001b[0m\u001b[0m\n\u001b[1;32m   2561\u001b[0m     \u001b[0mn_samples\u001b[0m \u001b[0;34m=\u001b[0m \u001b[0m_num_samples\u001b[0m\u001b[0;34m(\u001b[0m\u001b[0marrays\u001b[0m\u001b[0;34m[\u001b[0m\u001b[0;36m0\u001b[0m\u001b[0;34m]\u001b[0m\u001b[0;34m)\u001b[0m\u001b[0;34m\u001b[0m\u001b[0;34m\u001b[0m\u001b[0m\n\u001b[0;32m-> 2562\u001b[0;31m     n_train, n_test = _validate_shuffle_split(\n\u001b[0m\u001b[1;32m   2563\u001b[0m         \u001b[0mn_samples\u001b[0m\u001b[0;34m,\u001b[0m \u001b[0mtest_size\u001b[0m\u001b[0;34m,\u001b[0m \u001b[0mtrain_size\u001b[0m\u001b[0;34m,\u001b[0m \u001b[0mdefault_test_size\u001b[0m\u001b[0;34m=\u001b[0m\u001b[0;36m0.25\u001b[0m\u001b[0;34m\u001b[0m\u001b[0;34m\u001b[0m\u001b[0m\n\u001b[1;32m   2564\u001b[0m     )\n",
            "\u001b[0;32m/usr/local/lib/python3.10/dist-packages/sklearn/model_selection/_split.py\u001b[0m in \u001b[0;36m_validate_shuffle_split\u001b[0;34m(n_samples, test_size, train_size, default_test_size)\u001b[0m\n\u001b[1;32m   2179\u001b[0m         \u001b[0;32mand\u001b[0m \u001b[0;34m(\u001b[0m\u001b[0mtest_size\u001b[0m \u001b[0;34m<=\u001b[0m \u001b[0;36m0\u001b[0m \u001b[0;32mor\u001b[0m \u001b[0mtest_size\u001b[0m \u001b[0;34m>=\u001b[0m \u001b[0;36m1\u001b[0m\u001b[0;34m)\u001b[0m\u001b[0;34m\u001b[0m\u001b[0;34m\u001b[0m\u001b[0m\n\u001b[1;32m   2180\u001b[0m     ):\n\u001b[0;32m-> 2181\u001b[0;31m         raise ValueError(\n\u001b[0m\u001b[1;32m   2182\u001b[0m             \u001b[0;34m\"test_size={0} should be either positive and smaller\"\u001b[0m\u001b[0;34m\u001b[0m\u001b[0;34m\u001b[0m\u001b[0m\n\u001b[1;32m   2183\u001b[0m             \u001b[0;34m\" than the number of samples {1} or a float in the \"\u001b[0m\u001b[0;34m\u001b[0m\u001b[0;34m\u001b[0m\u001b[0m\n",
            "\u001b[0;31mValueError\u001b[0m: test_size=0.0 should be either positive and smaller than the number of samples 0 or a float in the (0, 1) range"
          ]
        }
      ],
      "source": [
        "# Split dataset into training and test sets (using all data for training)\n",
        "X_train, X_test, y_train, y_test = train_test_split(images, labels, test_size=0.0, random_state=42)\n"
      ]
    },
    {
      "cell_type": "code",
      "execution_count": null,
      "metadata": {
        "id": "w8r1b8SIa0mE"
      },
      "outputs": [],
      "source": [
        "import os\n",
        "\n",
        "# 1. Load and Preprocess the Dataset\n",
        "def load_dataset(dataset_path):\n",
        "    X = []  # List to hold images\n",
        "    y = []  # List to hold corresponding labels\n",
        "\n",
        "    label_mapping = {}  # Dictionary to map folder names to numeric labels\n",
        "    current_label = 0\n",
        "\n",
        "    for folder_name in os.listdir(dataset_path):\n",
        "        folder_path = os.path.join(dataset_path, folder_name)\n",
        "        if os.path.isdir(folder_path):\n",
        "            if folder_name not in label_mapping:\n",
        "                label_mapping[folder_name] = current_label\n",
        "                current_label += 1\n",
        "            label = label_mapping[folder_name]\n",
        "            for filename in os.listdir(folder_path):\n",
        "                file_path = os.path.join(folder_path, filename)\n",
        "                if filename.endswith(\".jpg\") or filename.endswith(\".png\"):\n",
        "                    # Load image and convert to grayscale\n",
        "                    img = cv2.imread(file_path, cv2.IMREAD_GRAYSCALE)\n",
        "                    if img is not None:\n",
        "                        X.append(img)\n",
        "                        y.append(label)\n",
        "\n",
        "    return np.array(X), np.array(y)\n",
        "\n",
        "# Main Function\n",
        "def main():\n",
        "    dataset_path = \"/content/drive/MyDrive/dataset/hw_drawings/hw_drawings\"\n",
        "\n",
        "    # 1. Load and Preprocess the Dataset\n",
        "    X, y = load_dataset(dataset_path)\n",
        "\n",
        "    # Rest of the code remains the same\n",
        "\n",
        "if __name__ == \"__main__\":\n",
        "    main()\n"
      ]
    },
    {
      "cell_type": "code",
      "execution_count": null,
      "metadata": {
        "colab": {
          "base_uri": "https://localhost:8080/"
        },
        "id": "dtDp5CrzbKt4",
        "outputId": "dd23fa7f-5f76-4000-d6fa-4d993700aff6"
      },
      "outputs": [
        {
          "name": "stdout",
          "output_type": "stream",
          "text": [
            "Drive already mounted at /content/drive; to attempt to forcibly remount, call drive.mount(\"/content/drive\", force_remount=True).\n"
          ]
        }
      ],
      "source": [
        "from google.colab import drive\n",
        "import os\n",
        "\n",
        "# Mount Google Drive\n",
        "drive.mount('/content/drive')\n",
        "\n",
        "# Define the path to your dataset directory\n",
        "dataset_path = \"/content/drive/MyDrive/dataset/hw_drawings/hw_drawings\"\n",
        "\n",
        "# 1. Load and Preprocess the Dataset\n",
        "def load_dataset(dataset_path):\n",
        "    X = []  # List to hold images\n",
        "    y = []  # List to hold corresponding labels\n",
        "\n",
        "    label_mapping = {}  # Dictionary to map folder names to numeric labels\n",
        "    current_label = 0\n",
        "\n",
        "    for folder_name in os.listdir(dataset_path):\n",
        "        folder_path = os.path.join(dataset_path, folder_name)\n",
        "        if os.path.isdir(folder_path):\n",
        "            if folder_name not in label_mapping:\n",
        "                label_mapping[folder_name] = current_label\n",
        "                current_label += 1\n",
        "            label = label_mapping[folder_name]\n",
        "            for filename in os.listdir(folder_path):\n",
        "                file_path = os.path.join(folder_path, filename)\n",
        "                if filename.endswith(\".jpg\") or filename.endswith(\".png\"):\n",
        "                    # Load image and convert to grayscale\n",
        "                    img = cv2.imread(file_path, cv2.IMREAD_GRAYSCALE)\n",
        "                    if img is not None:\n",
        "                        X.append(img)\n",
        "                        y.append(label)\n",
        "\n",
        "    return np.array(X), np.array(y)\n",
        "\n",
        "# Main Function\n",
        "def main():\n",
        "    # 1. Load and Preprocess the Dataset\n",
        "    X, y = load_dataset(dataset_path)\n",
        "\n",
        "    # Rest of the code remains the same\n",
        "\n",
        "if __name__ == \"__main__\":\n",
        "    main()\n"
      ]
    },
    {
      "cell_type": "code",
      "execution_count": null,
      "metadata": {
        "id": "mhG2CbtpbYK_"
      },
      "outputs": [],
      "source": [
        "import os\n",
        "import cv2\n",
        "import numpy as np\n",
        "\n",
        "# Define the path to your dataset directory\n",
        "dataset_path = \"/content/drive/MyDrive/dataset/hw_drawings/hw_drawings\"\n",
        "\n",
        "# 1. Load and Preprocess the Dataset\n",
        "def load_dataset(dataset_path):\n",
        "    X = []  # List to hold images\n",
        "    y = []  # List to hold corresponding labels\n",
        "\n",
        "    label_mapping = {}  # Dictionary to map folder names to numeric labels\n",
        "    current_label = 0\n",
        "\n",
        "    for folder_name in os.listdir(dataset_path):\n",
        "        folder_path = os.path.join(dataset_path, folder_name)\n",
        "        if os.path.isdir(folder_path):\n",
        "            if folder_name not in label_mapping:\n",
        "                label_mapping[folder_name] = current_label\n",
        "                current_label += 1\n",
        "            label = label_mapping[folder_name]\n",
        "            for filename in os.listdir(folder_path):\n",
        "                file_path = os.path.join(folder_path, filename)\n",
        "                if filename.endswith(\".jpg\") or filename.endswith(\".png\"):\n",
        "                    # Load image and convert to grayscale\n",
        "                    img = cv2.imread(file_path, cv2.IMREAD_GRAYSCALE)\n",
        "                    if img is not None:\n",
        "                        X.append(img)\n",
        "                        y.append(label)\n",
        "\n",
        "    return np.array(X), np.array(y)\n",
        "\n",
        "# Main Function\n",
        "def main():\n",
        "    # 1. Load and Preprocess the Dataset\n",
        "    X, y = load_dataset(dataset_path)\n",
        "\n",
        "    # Rest of the code remains the same\n",
        "\n",
        "if __name__ == \"__main__\":\n",
        "    main()\n"
      ]
    },
    {
      "cell_type": "code",
      "execution_count": null,
      "metadata": {
        "id": "hLZNsl8bbuBT"
      },
      "outputs": [],
      "source": [
        "from skimage.color import rgb2gray\n",
        "\n",
        "# 2. Feature Extraction with Grayscale Conversion\n",
        "def extract_features(X):\n",
        "    features = []\n",
        "    for img in X:\n",
        "        # Convert image to grayscale\n",
        "        gray_img = rgb2gray(img)\n",
        "\n",
        "        # Example: Using Histogram of Oriented Gradients (HOG) as features\n",
        "        hog_features = hog(gray_img, orientations=9, pixels_per_cell=(8, 8),\n",
        "                           cells_per_block=(2, 2), transform_sqrt=True, block_norm='L2-Hys')\n",
        "        features.append(hog_features)\n",
        "    return np.array(features)\n"
      ]
    },
    {
      "cell_type": "code",
      "execution_count": null,
      "metadata": {
        "id": "cpejm3Bfbv3S"
      },
      "outputs": [],
      "source": [
        "from skimage.color import rgb2gray\n"
      ]
    },
    {
      "cell_type": "code",
      "execution_count": null,
      "metadata": {
        "colab": {
          "base_uri": "https://localhost:8080/",
          "height": 339
        },
        "id": "uaqOXixeb3jL",
        "outputId": "5939d563-a489-4783-abc8-7dfa7ba3f111"
      },
      "outputs": [
        {
          "ename": "ValueError",
          "evalue": "the input array must have size 3 along `channel_axis`, got (420, 561)",
          "output_type": "error",
          "traceback": [
            "\u001b[0;31m---------------------------------------------------------------------------\u001b[0m",
            "\u001b[0;31mValueError\u001b[0m                                Traceback (most recent call last)",
            "\u001b[0;32m<ipython-input-14-d17b235d600b>\u001b[0m in \u001b[0;36m<cell line: 45>\u001b[0;34m()\u001b[0m\n\u001b[1;32m     44\u001b[0m \u001b[0;34m\u001b[0m\u001b[0m\n\u001b[1;32m     45\u001b[0m \u001b[0;32mif\u001b[0m \u001b[0m__name__\u001b[0m \u001b[0;34m==\u001b[0m \u001b[0;34m\"__main__\"\u001b[0m\u001b[0;34m:\u001b[0m\u001b[0;34m\u001b[0m\u001b[0;34m\u001b[0m\u001b[0m\n\u001b[0;32m---> 46\u001b[0;31m     \u001b[0mmain\u001b[0m\u001b[0;34m(\u001b[0m\u001b[0;34m)\u001b[0m\u001b[0;34m\u001b[0m\u001b[0;34m\u001b[0m\u001b[0m\n\u001b[0m",
            "\u001b[0;32m<ipython-input-14-d17b235d600b>\u001b[0m in \u001b[0;36mmain\u001b[0;34m()\u001b[0m\n\u001b[1;32m     32\u001b[0m \u001b[0;34m\u001b[0m\u001b[0m\n\u001b[1;32m     33\u001b[0m     \u001b[0;31m# 2. Feature Extraction\u001b[0m\u001b[0;34m\u001b[0m\u001b[0;34m\u001b[0m\u001b[0m\n\u001b[0;32m---> 34\u001b[0;31m     \u001b[0mX_features\u001b[0m \u001b[0;34m=\u001b[0m \u001b[0mextract_features\u001b[0m\u001b[0;34m(\u001b[0m\u001b[0mX\u001b[0m\u001b[0;34m)\u001b[0m\u001b[0;34m\u001b[0m\u001b[0;34m\u001b[0m\u001b[0m\n\u001b[0m\u001b[1;32m     35\u001b[0m \u001b[0;34m\u001b[0m\u001b[0m\n\u001b[1;32m     36\u001b[0m     \u001b[0;31m# 3. Splitting the Dataset\u001b[0m\u001b[0;34m\u001b[0m\u001b[0;34m\u001b[0m\u001b[0m\n",
            "\u001b[0;32m<ipython-input-12-0f99c1ecd240>\u001b[0m in \u001b[0;36mextract_features\u001b[0;34m(X)\u001b[0m\n\u001b[1;32m      6\u001b[0m     \u001b[0;32mfor\u001b[0m \u001b[0mimg\u001b[0m \u001b[0;32min\u001b[0m \u001b[0mX\u001b[0m\u001b[0;34m:\u001b[0m\u001b[0;34m\u001b[0m\u001b[0;34m\u001b[0m\u001b[0m\n\u001b[1;32m      7\u001b[0m         \u001b[0;31m# Convert image to grayscale\u001b[0m\u001b[0;34m\u001b[0m\u001b[0;34m\u001b[0m\u001b[0m\n\u001b[0;32m----> 8\u001b[0;31m         \u001b[0mgray_img\u001b[0m \u001b[0;34m=\u001b[0m \u001b[0mrgb2gray\u001b[0m\u001b[0;34m(\u001b[0m\u001b[0mimg\u001b[0m\u001b[0;34m)\u001b[0m\u001b[0;34m\u001b[0m\u001b[0;34m\u001b[0m\u001b[0m\n\u001b[0m\u001b[1;32m      9\u001b[0m \u001b[0;34m\u001b[0m\u001b[0m\n\u001b[1;32m     10\u001b[0m         \u001b[0;31m# Example: Using Histogram of Oriented Gradients (HOG) as features\u001b[0m\u001b[0;34m\u001b[0m\u001b[0;34m\u001b[0m\u001b[0m\n",
            "\u001b[0;32m/usr/local/lib/python3.10/dist-packages/skimage/_shared/utils.py\u001b[0m in \u001b[0;36mfixed_func\u001b[0;34m(*args, **kwargs)\u001b[0m\n\u001b[1;32m    392\u001b[0m \u001b[0;34m\u001b[0m\u001b[0m\n\u001b[1;32m    393\u001b[0m             \u001b[0;32mif\u001b[0m \u001b[0mchannel_axis\u001b[0m \u001b[0;32mis\u001b[0m \u001b[0;32mNone\u001b[0m\u001b[0;34m:\u001b[0m\u001b[0;34m\u001b[0m\u001b[0;34m\u001b[0m\u001b[0m\n\u001b[0;32m--> 394\u001b[0;31m                 \u001b[0;32mreturn\u001b[0m \u001b[0mfunc\u001b[0m\u001b[0;34m(\u001b[0m\u001b[0;34m*\u001b[0m\u001b[0margs\u001b[0m\u001b[0;34m,\u001b[0m \u001b[0;34m**\u001b[0m\u001b[0mkwargs\u001b[0m\u001b[0;34m)\u001b[0m\u001b[0;34m\u001b[0m\u001b[0;34m\u001b[0m\u001b[0m\n\u001b[0m\u001b[1;32m    395\u001b[0m \u001b[0;34m\u001b[0m\u001b[0m\n\u001b[1;32m    396\u001b[0m             \u001b[0;31m# TODO: convert scalars to a tuple in anticipation of eventually\u001b[0m\u001b[0;34m\u001b[0m\u001b[0;34m\u001b[0m\u001b[0m\n",
            "\u001b[0;32m/usr/local/lib/python3.10/dist-packages/skimage/color/colorconv.py\u001b[0m in \u001b[0;36mrgb2gray\u001b[0;34m(rgb, channel_axis)\u001b[0m\n\u001b[1;32m    873\u001b[0m     \u001b[0;34m>>\u001b[0m\u001b[0;34m>\u001b[0m \u001b[0mimg_gray\u001b[0m \u001b[0;34m=\u001b[0m \u001b[0mrgb2gray\u001b[0m\u001b[0;34m(\u001b[0m\u001b[0mimg\u001b[0m\u001b[0;34m)\u001b[0m\u001b[0;34m\u001b[0m\u001b[0;34m\u001b[0m\u001b[0m\n\u001b[1;32m    874\u001b[0m     \"\"\"\n\u001b[0;32m--> 875\u001b[0;31m     \u001b[0mrgb\u001b[0m \u001b[0;34m=\u001b[0m \u001b[0m_prepare_colorarray\u001b[0m\u001b[0;34m(\u001b[0m\u001b[0mrgb\u001b[0m\u001b[0;34m)\u001b[0m\u001b[0;34m\u001b[0m\u001b[0;34m\u001b[0m\u001b[0m\n\u001b[0m\u001b[1;32m    876\u001b[0m     \u001b[0mcoeffs\u001b[0m \u001b[0;34m=\u001b[0m \u001b[0mnp\u001b[0m\u001b[0;34m.\u001b[0m\u001b[0marray\u001b[0m\u001b[0;34m(\u001b[0m\u001b[0;34m[\u001b[0m\u001b[0;36m0.2125\u001b[0m\u001b[0;34m,\u001b[0m \u001b[0;36m0.7154\u001b[0m\u001b[0;34m,\u001b[0m \u001b[0;36m0.0721\u001b[0m\u001b[0;34m]\u001b[0m\u001b[0;34m,\u001b[0m \u001b[0mdtype\u001b[0m\u001b[0;34m=\u001b[0m\u001b[0mrgb\u001b[0m\u001b[0;34m.\u001b[0m\u001b[0mdtype\u001b[0m\u001b[0;34m)\u001b[0m\u001b[0;34m\u001b[0m\u001b[0;34m\u001b[0m\u001b[0m\n\u001b[1;32m    877\u001b[0m     \u001b[0;32mreturn\u001b[0m \u001b[0mrgb\u001b[0m \u001b[0;34m@\u001b[0m \u001b[0mcoeffs\u001b[0m\u001b[0;34m\u001b[0m\u001b[0;34m\u001b[0m\u001b[0m\n",
            "\u001b[0;32m/usr/local/lib/python3.10/dist-packages/skimage/color/colorconv.py\u001b[0m in \u001b[0;36m_prepare_colorarray\u001b[0;34m(arr, force_copy, channel_axis)\u001b[0m\n\u001b[1;32m    138\u001b[0m         msg = (f'the input array must have size 3 along `channel_axis`, '\n\u001b[1;32m    139\u001b[0m                f'got {arr.shape}')\n\u001b[0;32m--> 140\u001b[0;31m         \u001b[0;32mraise\u001b[0m \u001b[0mValueError\u001b[0m\u001b[0;34m(\u001b[0m\u001b[0mmsg\u001b[0m\u001b[0;34m)\u001b[0m\u001b[0;34m\u001b[0m\u001b[0;34m\u001b[0m\u001b[0m\n\u001b[0m\u001b[1;32m    141\u001b[0m \u001b[0;34m\u001b[0m\u001b[0m\n\u001b[1;32m    142\u001b[0m     \u001b[0mfloat_dtype\u001b[0m \u001b[0;34m=\u001b[0m \u001b[0m_supported_float_type\u001b[0m\u001b[0;34m(\u001b[0m\u001b[0marr\u001b[0m\u001b[0;34m.\u001b[0m\u001b[0mdtype\u001b[0m\u001b[0;34m)\u001b[0m\u001b[0;34m\u001b[0m\u001b[0;34m\u001b[0m\u001b[0m\n",
            "\u001b[0;31mValueError\u001b[0m: the input array must have size 3 along `channel_axis`, got (420, 561)"
          ]
        }
      ],
      "source": [
        "from sklearn.model_selection import train_test_split\n",
        "from sklearn.svm import SVC\n",
        "from sklearn.metrics import accuracy_score\n",
        "from sklearn.preprocessing import StandardScaler\n",
        "\n",
        "# 3. Splitting the Dataset\n",
        "def split_dataset(X, y):\n",
        "    X_train, X_test, y_train, y_test = train_test_split(X, y, test_size=0.2, random_state=42)\n",
        "    return X_train, X_test, y_train, y_test\n",
        "\n",
        "# 4. Model Training\n",
        "def train_model(X_train, y_train):\n",
        "    # Example: Train an SVM classifier\n",
        "    scaler = StandardScaler()\n",
        "    X_train_scaled = scaler.fit_transform(X_train)\n",
        "    svm_classifier = SVC(kernel='rbf', C=10, gamma='scale')\n",
        "    svm_classifier.fit(X_train_scaled, y_train)\n",
        "    return svm_classifier\n",
        "\n",
        "# 5. Model Evaluation\n",
        "def evaluate_model(model, X_test, y_test):\n",
        "    scaler = StandardScaler()\n",
        "    X_test_scaled = scaler.fit_transform(X_test)\n",
        "    y_pred = model.predict(X_test_scaled)\n",
        "    accuracy = accuracy_score(y_test, y_pred)\n",
        "    print(\"Accuracy:\", accuracy)\n",
        "\n",
        "# Main Function\n",
        "def main():\n",
        "    # 1. Load and Preprocess the Dataset\n",
        "    X, y = load_dataset(dataset_path)\n",
        "\n",
        "    # 2. Feature Extraction\n",
        "    X_features = extract_features(X)\n",
        "\n",
        "    # 3. Splitting the Dataset\n",
        "    X_train, X_test, y_train, y_test = split_dataset(X_features, y)\n",
        "\n",
        "    # 4. Model Training\n",
        "    model = train_model(X_train, y_train)\n",
        "\n",
        "    # 5. Model Evaluation\n",
        "    evaluate_model(model, X_test, y_test)\n",
        "\n",
        "if __name__ == \"__main__\":\n",
        "    main()\n"
      ]
    },
    {
      "cell_type": "code",
      "execution_count": null,
      "metadata": {
        "id": "7TKd_7-OcCDF"
      },
      "outputs": [],
      "source": [
        "import os\n",
        "import cv2\n",
        "\n",
        "# 1. Load and Preprocess the Dataset\n",
        "def load_dataset(dataset_path):\n",
        "    X = []  # List to hold images\n",
        "    y = []  # List to hold corresponding labels\n",
        "\n",
        "    label_mapping = {}  # Dictionary to map folder names to numeric labels\n",
        "    current_label = 0\n",
        "\n",
        "    for folder_name in os.listdir(dataset_path):\n",
        "        folder_path = os.path.join(dataset_path, folder_name)\n",
        "        if os.path.isdir(folder_path):\n",
        "            if folder_name not in label_mapping:\n",
        "                label_mapping[folder_name] = current_label\n",
        "                current_label += 1\n",
        "            label = label_mapping[folder_name]\n",
        "            for filename in os.listdir(folder_path):\n",
        "                file_path = os.path.join(folder_path, filename)\n",
        "                if filename.endswith(\".jpg\") or filename.endswith(\".png\"):\n",
        "                    # Load image\n",
        "                    img = cv2.imread(file_path)\n",
        "                    if img is not None:\n",
        "                        # Resize image if needed\n",
        "                        img = cv2.resize(img, (224, 224))  # Adjust size as needed\n",
        "                        X.append(img)\n",
        "                        y.append(label)\n",
        "\n",
        "    return np.array(X), np.array(y)\n",
        "\n",
        "# Main Function\n",
        "def main():\n",
        "    dataset_path = \"/content/drive/MyDrive/dataset/hw_drawings/hw_drawings\"\n",
        "\n",
        "    # 1. Load and Preprocess the Dataset\n",
        "    X, y = load_dataset(dataset_path)\n",
        "\n",
        "    # Rest of the code remains the same\n",
        "\n",
        "if __name__ == \"__main__\":\n",
        "    main()\n"
      ]
    },
    {
      "cell_type": "code",
      "execution_count": null,
      "metadata": {
        "colab": {
          "base_uri": "https://localhost:8080/",
          "height": 373
        },
        "id": "q5_4MNlmcOmD",
        "outputId": "53d18fa7-b8e1-4f06-a04f-3a9ee4b248d8"
      },
      "outputs": [
        {
          "ename": "NameError",
          "evalue": "name 'hog' is not defined",
          "output_type": "error",
          "traceback": [
            "\u001b[0;31m---------------------------------------------------------------------------\u001b[0m",
            "\u001b[0;31mNameError\u001b[0m                                 Traceback (most recent call last)",
            "\u001b[0;32m<ipython-input-16-d15af7da2ddb>\u001b[0m in \u001b[0;36m<cell line: 60>\u001b[0;34m()\u001b[0m\n\u001b[1;32m     59\u001b[0m \u001b[0;34m\u001b[0m\u001b[0m\n\u001b[1;32m     60\u001b[0m \u001b[0;32mif\u001b[0m \u001b[0m__name__\u001b[0m \u001b[0;34m==\u001b[0m \u001b[0;34m\"__main__\"\u001b[0m\u001b[0;34m:\u001b[0m\u001b[0;34m\u001b[0m\u001b[0;34m\u001b[0m\u001b[0m\n\u001b[0;32m---> 61\u001b[0;31m     \u001b[0mmain\u001b[0m\u001b[0;34m(\u001b[0m\u001b[0;34m)\u001b[0m\u001b[0;34m\u001b[0m\u001b[0;34m\u001b[0m\u001b[0m\n\u001b[0m",
            "\u001b[0;32m<ipython-input-16-d15af7da2ddb>\u001b[0m in \u001b[0;36mmain\u001b[0;34m()\u001b[0m\n\u001b[1;32m     47\u001b[0m \u001b[0;34m\u001b[0m\u001b[0m\n\u001b[1;32m     48\u001b[0m     \u001b[0;31m# 2. Feature Extraction\u001b[0m\u001b[0;34m\u001b[0m\u001b[0;34m\u001b[0m\u001b[0m\n\u001b[0;32m---> 49\u001b[0;31m     \u001b[0mX_features\u001b[0m \u001b[0;34m=\u001b[0m \u001b[0mextract_features\u001b[0m\u001b[0;34m(\u001b[0m\u001b[0mX\u001b[0m\u001b[0;34m)\u001b[0m\u001b[0;34m\u001b[0m\u001b[0;34m\u001b[0m\u001b[0m\n\u001b[0m\u001b[1;32m     50\u001b[0m \u001b[0;34m\u001b[0m\u001b[0m\n\u001b[1;32m     51\u001b[0m     \u001b[0;31m# 3. Splitting the Dataset\u001b[0m\u001b[0;34m\u001b[0m\u001b[0;34m\u001b[0m\u001b[0m\n",
            "\u001b[0;32m<ipython-input-16-d15af7da2ddb>\u001b[0m in \u001b[0;36mextract_features\u001b[0;34m(X)\u001b[0m\n\u001b[1;32m     12\u001b[0m \u001b[0;34m\u001b[0m\u001b[0m\n\u001b[1;32m     13\u001b[0m         \u001b[0;31m# Example: Using Histogram of Oriented Gradients (HOG) as features\u001b[0m\u001b[0;34m\u001b[0m\u001b[0;34m\u001b[0m\u001b[0m\n\u001b[0;32m---> 14\u001b[0;31m         hog_features = hog(gray_img, orientations=9, pixels_per_cell=(8, 8),\n\u001b[0m\u001b[1;32m     15\u001b[0m                            cells_per_block=(2, 2), transform_sqrt=True, block_norm='L2-Hys')\n\u001b[1;32m     16\u001b[0m         \u001b[0mfeatures\u001b[0m\u001b[0;34m.\u001b[0m\u001b[0mappend\u001b[0m\u001b[0;34m(\u001b[0m\u001b[0mhog_features\u001b[0m\u001b[0;34m)\u001b[0m\u001b[0;34m\u001b[0m\u001b[0;34m\u001b[0m\u001b[0m\n",
            "\u001b[0;31mNameError\u001b[0m: name 'hog' is not defined"
          ]
        }
      ],
      "source": [
        "from sklearn.model_selection import train_test_split\n",
        "from sklearn.svm import SVC\n",
        "from sklearn.metrics import accuracy_score\n",
        "from sklearn.preprocessing import StandardScaler\n",
        "\n",
        "# 2. Feature Extraction (Example using HOG)\n",
        "def extract_features(X):\n",
        "    features = []\n",
        "    for img in X:\n",
        "        # Convert image to grayscale\n",
        "        gray_img = cv2.cvtColor(img, cv2.COLOR_BGR2GRAY)\n",
        "\n",
        "        # Example: Using Histogram of Oriented Gradients (HOG) as features\n",
        "        hog_features = hog(gray_img, orientations=9, pixels_per_cell=(8, 8),\n",
        "                           cells_per_block=(2, 2), transform_sqrt=True, block_norm='L2-Hys')\n",
        "        features.append(hog_features)\n",
        "    return np.array(features)\n",
        "\n",
        "# 3. Splitting the Dataset\n",
        "def split_dataset(X, y):\n",
        "    X_train, X_test, y_train, y_test = train_test_split(X, y, test_size=0.2, random_state=42)\n",
        "    return X_train, X_test, y_train, y_test\n",
        "\n",
        "# 4. Model Training\n",
        "def train_model(X_train, y_train):\n",
        "    # Example: Train an SVM classifier\n",
        "    scaler = StandardScaler()\n",
        "    X_train_scaled = scaler.fit_transform(X_train)\n",
        "    svm_classifier = SVC(kernel='rbf', C=10, gamma='scale')\n",
        "    svm_classifier.fit(X_train_scaled, y_train)\n",
        "    return svm_classifier\n",
        "\n",
        "# 5. Model Evaluation\n",
        "def evaluate_model(model, X_test, y_test):\n",
        "    scaler = StandardScaler()\n",
        "    X_test_scaled = scaler.fit_transform(X_test)\n",
        "    y_pred = model.predict(X_test_scaled)\n",
        "    accuracy = accuracy_score(y_test, y_pred)\n",
        "    print(\"Accuracy:\", accuracy)\n",
        "\n",
        "# Main Function\n",
        "def main():\n",
        "    dataset_path = \"/content/drive/MyDrive/dataset/hw_drawings/hw_drawings\"\n",
        "\n",
        "    # 1. Load and Preprocess the Dataset\n",
        "    X, y = load_dataset(dataset_path)\n",
        "\n",
        "    # 2. Feature Extraction\n",
        "    X_features = extract_features(X)\n",
        "\n",
        "    # 3. Splitting the Dataset\n",
        "    X_train, X_test, y_train, y_test = split_dataset(X_features, y)\n",
        "\n",
        "    # 4. Model Training\n",
        "    model = train_model(X_train, y_train)\n",
        "\n",
        "    # 5. Model Evaluation\n",
        "    evaluate_model(model, X_test, y_test)\n",
        "\n",
        "if __name__ == \"__main__\":\n",
        "    main()\n"
      ]
    },
    {
      "cell_type": "code",
      "execution_count": null,
      "metadata": {
        "colab": {
          "base_uri": "https://localhost:8080/"
        },
        "id": "GFgtHZJccYlr",
        "outputId": "06cef7ae-f30c-4bf8-8ca6-459f3769ae8d"
      },
      "outputs": [
        {
          "name": "stdout",
          "output_type": "stream",
          "text": [
            "Accuracy: 0.6\n"
          ]
        }
      ],
      "source": [
        "import os\n",
        "import cv2\n",
        "import numpy as np\n",
        "from skimage.feature import hog  # Importing the hog function\n",
        "\n",
        "# Define the path to your dataset directory\n",
        "dataset_path = \"/content/drive/MyDrive/dataset/hw_drawings/hw_drawings\"\n",
        "\n",
        "# 1. Load and Preprocess the Dataset\n",
        "def load_dataset(dataset_path):\n",
        "    X = []  # List to hold images\n",
        "    y = []  # List to hold corresponding labels\n",
        "\n",
        "    label_mapping = {}  # Dictionary to map folder names to numeric labels\n",
        "    current_label = 0\n",
        "\n",
        "    for folder_name in os.listdir(dataset_path):\n",
        "        folder_path = os.path.join(dataset_path, folder_name)\n",
        "        if os.path.isdir(folder_path):\n",
        "            if folder_name not in label_mapping:\n",
        "                label_mapping[folder_name] = current_label\n",
        "                current_label += 1\n",
        "            label = label_mapping[folder_name]\n",
        "            for filename in os.listdir(folder_path):\n",
        "                file_path = os.path.join(folder_path, filename)\n",
        "                if filename.endswith(\".jpg\") or filename.endswith(\".png\"):\n",
        "                    # Load image\n",
        "                    img = cv2.imread(file_path)\n",
        "                    if img is not None:\n",
        "                        # Resize image if needed\n",
        "                        img = cv2.resize(img, (224, 224))  # Adjust size as needed\n",
        "                        X.append(img)\n",
        "                        y.append(label)\n",
        "\n",
        "    return np.array(X), np.array(y)\n",
        "\n",
        "# 2. Feature Extraction with Grayscale Conversion\n",
        "def extract_features(X):\n",
        "    features = []\n",
        "    for img in X:\n",
        "        # Convert image to grayscale\n",
        "        gray_img = cv2.cvtColor(img, cv2.COLOR_BGR2GRAY)\n",
        "\n",
        "        # Extract HOG features\n",
        "        hog_features = hog(gray_img, orientations=9, pixels_per_cell=(8, 8),\n",
        "                           cells_per_block=(2, 2), transform_sqrt=True, block_norm='L2-Hys')\n",
        "        features.append(hog_features)\n",
        "    return np.array(features)\n",
        "\n",
        "# 3. Splitting the Dataset\n",
        "def split_dataset(X, y):\n",
        "    X_train, X_test, y_train, y_test = train_test_split(X, y, test_size=0.2, random_state=42)\n",
        "    return X_train, X_test, y_train, y_test\n",
        "\n",
        "# 4. Model Training\n",
        "def train_model(X_train, y_train):\n",
        "    # Train an SVM classifier\n",
        "    scaler = StandardScaler()\n",
        "    X_train_scaled = scaler.fit_transform(X_train)\n",
        "    svm_classifier = SVC(kernel='rbf', C=10, gamma='scale')\n",
        "    svm_classifier.fit(X_train_scaled, y_train)\n",
        "    return svm_classifier\n",
        "\n",
        "# 5. Model Evaluation\n",
        "def evaluate_model(model, X_test, y_test):\n",
        "    scaler = StandardScaler()\n",
        "    X_test_scaled = scaler.fit_transform(X_test)\n",
        "    y_pred = model.predict(X_test_scaled)\n",
        "    accuracy = accuracy_score(y_test, y_pred)\n",
        "    print(\"Accuracy:\", accuracy)\n",
        "\n",
        "# Main Function\n",
        "def main():\n",
        "    # 1. Load and Preprocess the Dataset\n",
        "    X, y = load_dataset(dataset_path)\n",
        "\n",
        "    # 2. Feature Extraction\n",
        "    X_features = extract_features(X)\n",
        "\n",
        "    # 3. Splitting the Dataset\n",
        "    X_train, X_test, y_train, y_test = split_dataset(X_features, y)\n",
        "\n",
        "    # 4. Model Training\n",
        "    model = train_model(X_train, y_train)\n",
        "\n",
        "    # 5. Model Evaluation\n",
        "    evaluate_model(model, X_test, y_test)\n",
        "\n",
        "if __name__ == \"__main__\":\n",
        "    main()\n"
      ]
    },
    {
      "cell_type": "code",
      "execution_count": null,
      "metadata": {
        "colab": {
          "base_uri": "https://localhost:8080/",
          "height": 584
        },
        "id": "ENGrZWE8cuEM",
        "outputId": "baac28cc-91ed-48a2-fc2c-2af650f35b9f"
      },
      "outputs": [
        {
          "name": "stdout",
          "output_type": "stream",
          "text": [
            "Training Accuracy: 1.0\n",
            "Test Accuracy: 0.6\n"
          ]
        },
        {
          "data": {
            "image/png": "[encoded data removed]",
            "text/plain": [
              "<Figure size 800x600 with 1 Axes>"
            ]
          },
          "metadata": {},
          "output_type": "display_data"
        },
        {
          "name": "stdout",
          "output_type": "stream",
          "text": [
            "Training Accuracy: 1.0\n",
            "Test Accuracy: 0.6\n"
          ]
        }
      ],
      "source": [
        "import matplotlib.pyplot as plt\n",
        "\n",
        "# 5. Model Evaluation\n",
        "def evaluate_model(model, X_train, y_train, X_test, y_test):\n",
        "    scaler = StandardScaler()\n",
        "    X_train_scaled = scaler.fit_transform(X_train)\n",
        "    X_test_scaled = scaler.transform(X_test)\n",
        "\n",
        "    # Calculate training accuracy\n",
        "    train_accuracy = model.score(X_train_scaled, y_train)\n",
        "\n",
        "    # Calculate test accuracy\n",
        "    test_accuracy = model.score(X_test_scaled, y_test)\n",
        "\n",
        "    print(\"Training Accuracy:\", train_accuracy)\n",
        "    print(\"Test Accuracy:\", test_accuracy)\n",
        "\n",
        "    # Visualize accuracy\n",
        "    labels = ['Training Accuracy', 'Test Accuracy']\n",
        "    accuracies = [train_accuracy, test_accuracy]\n",
        "\n",
        "    plt.figure(figsize=(8, 6))\n",
        "    plt.bar(labels, accuracies, color=['blue', 'green'])\n",
        "    plt.xlabel('Accuracy')\n",
        "    plt.ylabel('Value')\n",
        "    plt.title('Model Accuracy Comparison')\n",
        "    plt.ylim(0, 1)\n",
        "    plt.show()\n",
        "\n",
        "    return train_accuracy, test_accuracy\n",
        "\n",
        "# Main Function\n",
        "def main():\n",
        "    # 1. Load and Preprocess the Dataset\n",
        "    X, y = load_dataset(dataset_path)\n",
        "\n",
        "    # 2. Feature Extraction\n",
        "    X_features = extract_features(X)\n",
        "\n",
        "    # 3. Splitting the Dataset\n",
        "    X_train, X_test, y_train, y_test = split_dataset(X_features, y)\n",
        "\n",
        "    # 4. Model Training\n",
        "    model = train_model(X_train, y_train)\n",
        "\n",
        "    # 5. Model Evaluation\n",
        "    train_accuracy, test_accuracy = evaluate_model(model, X_train, y_train, X_test, y_test)\n",
        "    print(\"Training Accuracy:\", train_accuracy)\n",
        "    print(\"Test Accuracy:\", test_accuracy)\n",
        "\n",
        "if __name__ == \"__main__\":\n",
        "    main()\n"
      ]
    },
    {
      "cell_type": "code",
      "execution_count": null,
      "metadata": {
        "colab": {
          "base_uri": "https://localhost:8080/",
          "height": 688
        },
        "id": "wHS2fWHwdEhd",
        "outputId": "deefdb19-f582-4b71-b90c-49adcafa6565"
      },
      "outputs": [
        {
          "name": "stdout",
          "output_type": "stream",
          "text": [
            "Epoch 1/10\n",
            "2/2 [==============================] - 6s 1s/step - loss: 6.1139 - accuracy: 0.4500 - val_loss: 1.1147 - val_accuracy: 0.7000\n",
            "Epoch 2/10\n",
            "2/2 [==============================] - 4s 1s/step - loss: 2.1646 - accuracy: 0.4500 - val_loss: 1.2125 - val_accuracy: 0.3000\n",
            "Epoch 3/10\n",
            "2/2 [==============================] - 11s 4s/step - loss: 0.7706 - accuracy: 0.6000 - val_loss: 0.6460 - val_accuracy: 0.7000\n",
            "Epoch 4/10\n",
            "2/2 [==============================] - 6s 1s/step - loss: 0.9510 - accuracy: 0.4500 - val_loss: 0.7038 - val_accuracy: 0.3000\n",
            "Epoch 5/10\n",
            "2/2 [==============================] - 4s 1s/step - loss: 0.7348 - accuracy: 0.5500 - val_loss: 0.8359 - val_accuracy: 0.3000\n",
            "Epoch 6/10\n",
            "2/2 [==============================] - 6s 1s/step - loss: 0.7122 - accuracy: 0.5500 - val_loss: 0.7096 - val_accuracy: 0.3000\n",
            "Epoch 7/10\n",
            "2/2 [==============================] - 4s 1s/step - loss: 0.6901 - accuracy: 0.5500 - val_loss: 0.7016 - val_accuracy: 0.3000\n",
            "Epoch 8/10\n",
            "2/2 [==============================] - 4s 1s/step - loss: 0.6897 - accuracy: 0.5500 - val_loss: 0.7042 - val_accuracy: 0.3000\n",
            "Epoch 9/10\n",
            "2/2 [==============================] - 5s 2s/step - loss: 0.6893 - accuracy: 0.5500 - val_loss: 0.7018 - val_accuracy: 0.3000\n",
            "Epoch 10/10\n",
            "2/2 [==============================] - 4s 1s/step - loss: 0.6885 - accuracy: 0.5500 - val_loss: 0.6958 - val_accuracy: 0.3000\n"
          ]
        },
        {
          "ename": "AttributeError",
          "evalue": "'Sequential' object has no attribute 'predict_classes'",
          "output_type": "error",
          "traceback": [
            "\u001b[0;31m---------------------------------------------------------------------------\u001b[0m",
            "\u001b[0;31mAttributeError\u001b[0m                            Traceback (most recent call last)",
            "\u001b[0;32m<ipython-input-19-2e1e971a1140>\u001b[0m in \u001b[0;36m<cell line: 90>\u001b[0;34m()\u001b[0m\n\u001b[1;32m     89\u001b[0m \u001b[0;34m\u001b[0m\u001b[0m\n\u001b[1;32m     90\u001b[0m \u001b[0;32mif\u001b[0m \u001b[0m__name__\u001b[0m \u001b[0;34m==\u001b[0m \u001b[0;34m\"__main__\"\u001b[0m\u001b[0;34m:\u001b[0m\u001b[0;34m\u001b[0m\u001b[0;34m\u001b[0m\u001b[0m\n\u001b[0;32m---> 91\u001b[0;31m     \u001b[0mmain\u001b[0m\u001b[0;34m(\u001b[0m\u001b[0;34m)\u001b[0m\u001b[0;34m\u001b[0m\u001b[0;34m\u001b[0m\u001b[0m\n\u001b[0m",
            "\u001b[0;32m<ipython-input-19-2e1e971a1140>\u001b[0m in \u001b[0;36mmain\u001b[0;34m()\u001b[0m\n\u001b[1;32m     86\u001b[0m \u001b[0;34m\u001b[0m\u001b[0m\n\u001b[1;32m     87\u001b[0m     \u001b[0;31m# 5. Model Evaluation\u001b[0m\u001b[0;34m\u001b[0m\u001b[0;34m\u001b[0m\u001b[0m\n\u001b[0;32m---> 88\u001b[0;31m     \u001b[0mevaluate_model\u001b[0m\u001b[0;34m(\u001b[0m\u001b[0mmodel\u001b[0m\u001b[0;34m,\u001b[0m \u001b[0mX_test\u001b[0m\u001b[0;34m,\u001b[0m \u001b[0my_test\u001b[0m\u001b[0;34m)\u001b[0m\u001b[0;34m\u001b[0m\u001b[0;34m\u001b[0m\u001b[0m\n\u001b[0m\u001b[1;32m     89\u001b[0m \u001b[0;34m\u001b[0m\u001b[0m\n\u001b[1;32m     90\u001b[0m \u001b[0;32mif\u001b[0m \u001b[0m__name__\u001b[0m \u001b[0;34m==\u001b[0m \u001b[0;34m\"__main__\"\u001b[0m\u001b[0;34m:\u001b[0m\u001b[0;34m\u001b[0m\u001b[0;34m\u001b[0m\u001b[0m\n",
            "\u001b[0;32m<ipython-input-19-2e1e971a1140>\u001b[0m in \u001b[0;36mevaluate_model\u001b[0;34m(model, X_test, y_test)\u001b[0m\n\u001b[1;32m     69\u001b[0m \u001b[0;31m# 5. Model Evaluation\u001b[0m\u001b[0;34m\u001b[0m\u001b[0;34m\u001b[0m\u001b[0m\n\u001b[1;32m     70\u001b[0m \u001b[0;32mdef\u001b[0m \u001b[0mevaluate_model\u001b[0m\u001b[0;34m(\u001b[0m\u001b[0mmodel\u001b[0m\u001b[0;34m,\u001b[0m \u001b[0mX_test\u001b[0m\u001b[0;34m,\u001b[0m \u001b[0my_test\u001b[0m\u001b[0;34m)\u001b[0m\u001b[0;34m:\u001b[0m\u001b[0;34m\u001b[0m\u001b[0;34m\u001b[0m\u001b[0m\n\u001b[0;32m---> 71\u001b[0;31m     \u001b[0my_pred\u001b[0m \u001b[0;34m=\u001b[0m \u001b[0mmodel\u001b[0m\u001b[0;34m.\u001b[0m\u001b[0mpredict_classes\u001b[0m\u001b[0;34m(\u001b[0m\u001b[0mX_test\u001b[0m\u001b[0;34m)\u001b[0m\u001b[0;34m\u001b[0m\u001b[0;34m\u001b[0m\u001b[0m\n\u001b[0m\u001b[1;32m     72\u001b[0m     \u001b[0maccuracy\u001b[0m \u001b[0;34m=\u001b[0m \u001b[0maccuracy_score\u001b[0m\u001b[0;34m(\u001b[0m\u001b[0my_test\u001b[0m\u001b[0;34m,\u001b[0m \u001b[0my_pred\u001b[0m\u001b[0;34m)\u001b[0m\u001b[0;34m\u001b[0m\u001b[0;34m\u001b[0m\u001b[0m\n\u001b[1;32m     73\u001b[0m     \u001b[0mprint\u001b[0m\u001b[0;34m(\u001b[0m\u001b[0;34m\"Test Accuracy:\"\u001b[0m\u001b[0;34m,\u001b[0m \u001b[0maccuracy\u001b[0m\u001b[0;34m)\u001b[0m\u001b[0;34m\u001b[0m\u001b[0;34m\u001b[0m\u001b[0m\n",
            "\u001b[0;31mAttributeError\u001b[0m: 'Sequential' object has no attribute 'predict_classes'"
          ]
        }
      ],
      "source": [
        "import os\n",
        "import cv2\n",
        "import numpy as np\n",
        "from sklearn.model_selection import train_test_split\n",
        "from sklearn.preprocessing import LabelEncoder\n",
        "from sklearn.preprocessing import OneHotEncoder\n",
        "from sklearn.metrics import accuracy_score\n",
        "import tensorflow as tf\n",
        "from tensorflow.keras import layers, models\n",
        "\n",
        "# Define the path to your dataset directory\n",
        "dataset_path = \"/content/drive/MyDrive/dataset/hw_drawings/hw_drawings\"\n",
        "\n",
        "# 1. Load and Preprocess the Dataset\n",
        "def load_dataset(dataset_path):\n",
        "    X = []  # List to hold images\n",
        "    y = []  # List to hold corresponding labels\n",
        "\n",
        "    label_mapping = {}  # Dictionary to map folder names to numeric labels\n",
        "    current_label = 0\n",
        "\n",
        "    for folder_name in os.listdir(dataset_path):\n",
        "        folder_path = os.path.join(dataset_path, folder_name)\n",
        "        if os.path.isdir(folder_path):\n",
        "            label_mapping[folder_name] = current_label\n",
        "            current_label += 1\n",
        "            label = label_mapping[folder_name]\n",
        "            for filename in os.listdir(folder_path):\n",
        "                file_path = os.path.join(folder_path, filename)\n",
        "                if filename.endswith(\".jpg\") or filename.endswith(\".png\"):\n",
        "                    # Load and preprocess image\n",
        "                    img = cv2.imread(file_path)\n",
        "                    img = cv2.resize(img, (224, 224))  # Resize to match CNN input size\n",
        "                    img = img / 255.0  # Normalize pixel values to [0, 1]\n",
        "                    X.append(img)\n",
        "                    y.append(label)\n",
        "\n",
        "    return np.array(X), np.array(y)\n",
        "\n",
        "# 2. Splitting the Dataset\n",
        "def split_dataset(X, y):\n",
        "    X_train, X_test, y_train, y_test = train_test_split(X, y, test_size=0.2, random_state=42)\n",
        "    return X_train, X_test, y_train, y_test\n",
        "\n",
        "# 3. Define the CNN Model\n",
        "def create_cnn_model(input_shape, num_classes):\n",
        "    model = models.Sequential([\n",
        "        layers.Conv2D(32, (3, 3), activation='relu', input_shape=input_shape),\n",
        "        layers.MaxPooling2D((2, 2)),\n",
        "        layers.Conv2D(64, (3, 3), activation='relu'),\n",
        "        layers.MaxPooling2D((2, 2)),\n",
        "        layers.Conv2D(64, (3, 3), activation='relu'),\n",
        "        layers.Flatten(),\n",
        "        layers.Dense(64, activation='relu'),\n",
        "        layers.Dense(num_classes, activation='softmax')\n",
        "    ])\n",
        "    return model\n",
        "\n",
        "# 4. Model Training\n",
        "def train_model(X_train, y_train, X_test, y_test, num_classes):\n",
        "    input_shape = X_train.shape[1:]  # Shape of input images\n",
        "    model = create_cnn_model(input_shape, num_classes)\n",
        "    model.compile(optimizer='adam',\n",
        "                  loss='sparse_categorical_crossentropy',\n",
        "                  metrics=['accuracy'])\n",
        "    model.fit(X_train, y_train, epochs=10, batch_size=32, validation_data=(X_test, y_test))\n",
        "    return model\n",
        "\n",
        "# 5. Model Evaluation\n",
        "def evaluate_model(model, X_test, y_test):\n",
        "    y_pred = model.predict_classes(X_test)\n",
        "    accuracy = accuracy_score(y_test, y_pred)\n",
        "    print(\"Test Accuracy:\", accuracy)\n",
        "\n",
        "# Main Function\n",
        "def main():\n",
        "    # 1. Load and Preprocess the Dataset\n",
        "    X, y = load_dataset(dataset_path)\n",
        "\n",
        "    # 2. Splitting the Dataset\n",
        "    X_train, X_test, y_train, y_test = split_dataset(X, y)\n",
        "\n",
        "    # 3. Model Training\n",
        "    num_classes = len(np.unique(y))\n",
        "    model = train_model(X_train, y_train, X_test, y_test, num_classes)\n",
        "\n",
        "    # 5. Model Evaluation\n",
        "    evaluate_model(model, X_test, y_test)\n",
        "\n",
        "if __name__ == \"__main__\":\n",
        "    main()\n"
      ]
    },
    {
      "cell_type": "code",
      "execution_count": null,
      "metadata": {
        "id": "KxPLtc-Vdiw3"
      },
      "outputs": [],
      "source": [
        "# 5. Model Evaluation\n",
        "def evaluate_model(model, X_test, y_test):\n",
        "    y_pred_prob = model.predict(X_test)\n",
        "    y_pred = np.argmax(y_pred_prob, axis=1)\n",
        "    accuracy = accuracy_score(y_test, y_pred)\n",
        "    print(\"Test Accuracy:\", accuracy)\n"
      ]
    },
    {
      "cell_type": "code",
      "execution_count": null,
      "metadata": {
        "colab": {
          "base_uri": "https://localhost:8080/",
          "height": 265
        },
        "id": "KFJoautPdrhr",
        "outputId": "3b2bb343-14ff-4e30-cb53-689a866cf147"
      },
      "outputs": [
        {
          "name": "stdout",
          "output_type": "stream",
          "text": [
            "Downloading data from https://storage.googleapis.com/tensorflow/keras-applications/vgg16/vgg16_weights_tf_dim_ordering_tf_kernels_notop.h5\n",
            "58889256/58889256 [==============================] - 3s 0us/step\n"
          ]
        },
        {
          "ename": "NameError",
          "evalue": "name 'num_classes' is not defined",
          "output_type": "error",
          "traceback": [
            "\u001b[0;31m---------------------------------------------------------------------------\u001b[0m",
            "\u001b[0;31mNameError\u001b[0m                                 Traceback (most recent call last)",
            "\u001b[0;32m<ipython-input-21-438798123c69>\u001b[0m in \u001b[0;36m<cell line: 23>\u001b[0;34m()\u001b[0m\n\u001b[1;32m     21\u001b[0m \u001b[0mx\u001b[0m \u001b[0;34m=\u001b[0m \u001b[0mFlatten\u001b[0m\u001b[0;34m(\u001b[0m\u001b[0;34m)\u001b[0m\u001b[0;34m(\u001b[0m\u001b[0mbase_model\u001b[0m\u001b[0;34m.\u001b[0m\u001b[0moutput\u001b[0m\u001b[0;34m)\u001b[0m\u001b[0;34m\u001b[0m\u001b[0;34m\u001b[0m\u001b[0m\n\u001b[1;32m     22\u001b[0m \u001b[0mx\u001b[0m \u001b[0;34m=\u001b[0m \u001b[0mDense\u001b[0m\u001b[0;34m(\u001b[0m\u001b[0;36m512\u001b[0m\u001b[0;34m,\u001b[0m \u001b[0mactivation\u001b[0m\u001b[0;34m=\u001b[0m\u001b[0;34m'relu'\u001b[0m\u001b[0;34m)\u001b[0m\u001b[0;34m(\u001b[0m\u001b[0mx\u001b[0m\u001b[0;34m)\u001b[0m\u001b[0;34m\u001b[0m\u001b[0;34m\u001b[0m\u001b[0m\n\u001b[0;32m---> 23\u001b[0;31m \u001b[0mpredictions\u001b[0m \u001b[0;34m=\u001b[0m \u001b[0mDense\u001b[0m\u001b[0;34m(\u001b[0m\u001b[0mnum_classes\u001b[0m\u001b[0;34m,\u001b[0m \u001b[0mactivation\u001b[0m\u001b[0;34m=\u001b[0m\u001b[0;34m'softmax'\u001b[0m\u001b[0;34m)\u001b[0m\u001b[0;34m(\u001b[0m\u001b[0mx\u001b[0m\u001b[0;34m)\u001b[0m\u001b[0;34m\u001b[0m\u001b[0;34m\u001b[0m\u001b[0m\n\u001b[0m\u001b[1;32m     24\u001b[0m \u001b[0;34m\u001b[0m\u001b[0m\n\u001b[1;32m     25\u001b[0m \u001b[0mmodel\u001b[0m \u001b[0;34m=\u001b[0m \u001b[0mModel\u001b[0m\u001b[0;34m(\u001b[0m\u001b[0minputs\u001b[0m\u001b[0;34m=\u001b[0m\u001b[0mbase_model\u001b[0m\u001b[0;34m.\u001b[0m\u001b[0minput\u001b[0m\u001b[0;34m,\u001b[0m \u001b[0moutputs\u001b[0m\u001b[0;34m=\u001b[0m\u001b[0mpredictions\u001b[0m\u001b[0;34m)\u001b[0m\u001b[0;34m\u001b[0m\u001b[0;34m\u001b[0m\u001b[0m\n",
            "\u001b[0;31mNameError\u001b[0m: name 'num_classes' is not defined"
          ]
        }
      ],
      "source": [
        "from tensorflow.keras.preprocessing.image import ImageDataGenerator\n",
        "from tensorflow.keras.applications import VGG16\n",
        "from tensorflow.keras.models import Model\n",
        "from tensorflow.keras.layers import Dense, Flatten\n",
        "\n",
        "# 1. Data Augmentation\n",
        "train_datagen = ImageDataGenerator(\n",
        "    rotation_range=20,\n",
        "    width_shift_range=0.2,\n",
        "    height_shift_range=0.2,\n",
        "    shear_range=0.2,\n",
        "    zoom_range=0.2,\n",
        "    horizontal_flip=True,\n",
        "    fill_mode='nearest')\n",
        "\n",
        "# 2. Transfer Learning with Pre-trained Model\n",
        "base_model = VGG16(weights='imagenet', include_top=False, input_shape=(224, 224, 3))\n",
        "for layer in base_model.layers:\n",
        "    layer.trainable = False\n",
        "\n",
        "x = Flatten()(base_model.output)\n",
        "x = Dense(512, activation='relu')(x)\n",
        "predictions = Dense(num_classes, activation='softmax')(x)\n",
        "\n",
        "model = Model(inputs=base_model.input, outputs=predictions)\n",
        "model.compile(optimizer='adam',\n",
        "              loss='sparse_categorical_crossentropy',\n",
        "              metrics=['accuracy'])\n",
        "\n",
        "# Train the model using data augmentation\n",
        "history = model.fit(train_datagen.flow(X_train, y_train, batch_size=32),\n",
        "                    steps_per_epoch=len(X_train) / 32, epochs=10,\n",
        "                    validation_data=(X_test, y_test))\n",
        "\n",
        "# Evaluate the model\n",
        "evaluate_model(model, X_test, y_test)\n"
      ]
    },
    {
      "cell_type": "code",
      "execution_count": null,
      "metadata": {
        "colab": {
          "base_uri": "https://localhost:8080/",
          "height": 211
        },
        "id": "R4yLgAgLdx-Q",
        "outputId": "eeacade6-46d7-430f-9d06-de2f3db6060a"
      },
      "outputs": [
        {
          "ename": "NameError",
          "evalue": "name 'y' is not defined",
          "output_type": "error",
          "traceback": [
            "\u001b[0;31m---------------------------------------------------------------------------\u001b[0m",
            "\u001b[0;31mNameError\u001b[0m                                 Traceback (most recent call last)",
            "\u001b[0;32m<ipython-input-22-e6d7f0330c08>\u001b[0m in \u001b[0;36m<cell line: 2>\u001b[0;34m()\u001b[0m\n\u001b[1;32m      1\u001b[0m \u001b[0;31m# Define the number of classes\u001b[0m\u001b[0;34m\u001b[0m\u001b[0;34m\u001b[0m\u001b[0m\n\u001b[0;32m----> 2\u001b[0;31m \u001b[0mnum_classes\u001b[0m \u001b[0;34m=\u001b[0m \u001b[0mlen\u001b[0m\u001b[0;34m(\u001b[0m\u001b[0mnp\u001b[0m\u001b[0;34m.\u001b[0m\u001b[0munique\u001b[0m\u001b[0;34m(\u001b[0m\u001b[0my\u001b[0m\u001b[0;34m)\u001b[0m\u001b[0;34m)\u001b[0m\u001b[0;34m\u001b[0m\u001b[0;34m\u001b[0m\u001b[0m\n\u001b[0m\u001b[1;32m      3\u001b[0m \u001b[0;34m\u001b[0m\u001b[0m\n\u001b[1;32m      4\u001b[0m \u001b[0;31m# Continue with the rest of the code for data augmentation and transfer learning\u001b[0m\u001b[0;34m\u001b[0m\u001b[0;34m\u001b[0m\u001b[0m\n",
            "\u001b[0;31mNameError\u001b[0m: name 'y' is not defined"
          ]
        }
      ],
      "source": [
        "# Define the number of classes\n",
        "num_classes = len(np.unique(y))\n",
        "\n",
        "# Continue with the rest of the code for data augmentation and transfer learning\n"
      ]
    },
    {
      "cell_type": "code",
      "execution_count": null,
      "metadata": {
        "colab": {
          "background_save": true,
          "base_uri": "https://localhost:8080/"
        },
        "id": "_JgnZ7dwd47p",
        "outputId": "5e3f229a-ca2c-4fee-b4e6-ad41c38bc944"
      },
      "outputs": [
        {
          "name": "stdout",
          "output_type": "stream",
          "text": [
            "Epoch 1/10\n",
            "1/1 [==============================] - 37s 62s/step - loss: 1.5146 - accuracy: 0.6000 - val_loss: 7.3914 - val_accuracy: 0.3000\n",
            "Epoch 2/10\n",
            "1/1 [==============================] - 36s 107s/step - loss: 2.3094 - accuracy: 0.6000 - val_loss: 1.7124 - val_accuracy: 0.7000\n",
            "Epoch 3/10\n",
            "1/1 [==============================] - 35s 59s/step - loss: 2.6985 - accuracy: 0.5500 - val_loss: 6.7397 - val_accuracy: 0.3000\n",
            "Epoch 4/10\n",
            "1/1 [==============================] - 35s 58s/step - loss: 5.1529 - accuracy: 0.5500 - val_loss: 0.9920 - val_accuracy: 0.7000\n",
            "Epoch 5/10\n",
            "1/1 [==============================] - 37s 126s/step - loss: 3.3481 - accuracy: 0.5250 - val_loss: 3.8642 - val_accuracy: 0.7000\n",
            "Epoch 6/10\n",
            "1/1 [==============================] - 33s 112s/step - loss: 1.8037 - accuracy: 0.5000 - val_loss: 1.7327 - val_accuracy: 0.3000\n",
            "Epoch 7/10\n",
            "1/1 [==============================] - 35s 60s/step - loss: 3.1125 - accuracy: 0.5750 - val_loss: 0.8965 - val_accuracy: 0.6000\n",
            "Epoch 8/10\n",
            "1/1 [==============================] - 37s 65s/step - loss: 2.1374 - accuracy: 0.5750 - val_loss: 2.2580 - val_accuracy: 0.7000\n",
            "Epoch 9/10\n",
            "1/1 [==============================] - 35s 60s/step - loss: 1.8346 - accuracy: 0.5500 - val_loss: 1.2585 - val_accuracy: 0.4000\n",
            "Epoch 10/10\n",
            "1/1 [==============================] - 36s 120s/step - loss: 1.8492 - accuracy: 0.6750 - val_loss: 1.6701 - val_accuracy: 0.4000\n",
            "1/1 [==============================] - 5s 5s/step\n",
            "Test Accuracy: 0.4\n"
          ]
        }
      ],
      "source": [
        "def main():\n",
        "    # 1. Load and Preprocess the Dataset\n",
        "    X, y = load_dataset(dataset_path)\n",
        "\n",
        "    # Define the number of classes\n",
        "    num_classes = len(np.unique(y))\n",
        "\n",
        "    # 2. Splitting the Dataset\n",
        "    X_train, X_test, y_train, y_test = split_dataset(X, y)\n",
        "\n",
        "    # 3. Data Augmentation\n",
        "    train_datagen = ImageDataGenerator(\n",
        "        rotation_range=20,\n",
        "        width_shift_range=0.2,\n",
        "        height_shift_range=0.2,\n",
        "        shear_range=0.2,\n",
        "        zoom_range=0.2,\n",
        "        horizontal_flip=True,\n",
        "        fill_mode='nearest')\n",
        "\n",
        "    # 4. Transfer Learning with Pre-trained Model\n",
        "    base_model = VGG16(weights='imagenet', include_top=False, input_shape=(224, 224, 3))\n",
        "    for layer in base_model.layers:\n",
        "        layer.trainable = False\n",
        "\n",
        "    x = Flatten()(base_model.output)\n",
        "    x = Dense(512, activation='relu')(x)\n",
        "    predictions = Dense(num_classes, activation='softmax')(x)\n",
        "\n",
        "    model = Model(inputs=base_model.input, outputs=predictions)\n",
        "    model.compile(optimizer='adam',\n",
        "                  loss='sparse_categorical_crossentropy',\n",
        "                  metrics=['accuracy'])\n",
        "\n",
        "    # Train the model using data augmentation\n",
        "    history = model.fit(train_datagen.flow(X_train, y_train, batch_size=32),\n",
        "                        steps_per_epoch=len(X_train) / 32, epochs=10,\n",
        "                        validation_data=(X_test, y_test))\n",
        "\n",
        "    # Evaluate the model\n",
        "    evaluate_model(model, X_test, y_test)\n",
        "\n",
        "if __name__ == \"__main__\":\n",
        "    main()\n"
      ]
    }
  ],
  "metadata": {
    "colab": {
      "provenance": [],
      "mount_file_id": "1BpKzCfolj8EmKV87Avi3irxuBnoiFZ0v",
      "authorship_tag": "ABX9TyOPXWNYo9BtKQGXq8ftKOEf",
      "include_colab_link": true
    },
    "kernelspec": {
      "display_name": "Python 3",
      "name": "python3"
    },
    "language_info": {
      "name": "python"
    }
  },
  "nbformat": 4,
  "nbformat_minor": 0
}